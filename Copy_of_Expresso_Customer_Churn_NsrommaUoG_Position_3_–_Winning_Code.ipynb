{
 "cells": [
  {
   "cell_type": "markdown",
   "metadata": {
    "colab_type": "text",
    "id": "upUhuCPd6TfK"
   },
   "source": [
    "# Expresso Churn Prediction Challenge - NsrommaUoG - Position_3\n",
    "\n",
    "\n",
    "## SET-UP\n",
    "1.\tWe used the data provided by Zindi Africa (retrieved from https://zindi.africa/hackathons/umojahack-ghana-expresso-churn-prediction-challenge/data). The dataset folder included the Train.csv for trainning our model, a Test.csv file upon which we validated the accuracy of our models. The dataset also provided us with a VariableDefinitions.csv file and a SampleSubmission.csv file.\n",
    "\n",
    "2.\tWe leveraged on the Starter Notebook provided by Zindi Africa and Google collaboratory was the online platform we used for our work.\n",
    "\n",
    "\n",
    "## INSTRUCTIONS ON RUNNING THE NOTEBOOK\n",
    "Option 1: Running the notebook locally(In Jupyter Notebook or Any Other Means)\n",
    "1.\tEnsure the Train.csv, Test.csv and SampleSubmision.csv files are in the same folder as the Expresso_Customer_Churn_NsrommaUoG_Position_3_Winning_Code.ipynb notebook.\n",
    "2.\tUpdate the path of the above mentioned files inside the notebook and then run the notebook\n",
    "3.\tDo ensure to have the latest version of the xgboost package installed before running the notebook\n",
    "\n",
    "Option 2: Running the notebook via Google Collaboratory\n",
    "1.\tUpload the Train.csv, Test.csv and SampleSubmision.csv files into your Google drive.\n",
    "2.\tUpdate the path of the above mentioned files inside the pandas(pd) .read_csv dataFrame and then run the notebook.\n"
   ]
  },
  {
   "cell_type": "markdown",
   "metadata": {
    "colab_type": "text",
    "id": "4A9zer8B6agw"
   },
   "source": [
    "#### Mounting Google drive to get access to dataset that has been uploaded to a folder in the cloud drive"
   ]
  },
  {
   "cell_type": "code",
   "execution_count": 1,
   "metadata": {
    "colab": {},
    "colab_type": "code",
    "id": "ynkA3m-FEKMv"
   },
   "outputs": [],
   "source": [
    "#from google.colab import drive\n",
    "#drive.mount('/content/drive')"
   ]
  },
  {
   "cell_type": "code",
   "execution_count": 2,
   "metadata": {
    "colab": {},
    "colab_type": "code",
    "id": "H7fJLq7tEHoK"
   },
   "outputs": [],
   "source": [
    "#Import some libraries\n",
    "import pandas as pd\n",
    "import numpy as np\n",
    "import matplotlib.pyplot as plt\n",
    "from pylab import rcParams\n",
    "import seaborn as sb\n",
    "sb.set_style('darkgrid')\n",
    "rcParams['figure.figsize'] = 8,8\n",
    "import warnings\n",
    "warnings.filterwarnings(\"ignore\")\n",
    "%matplotlib inline"
   ]
  },
  {
   "cell_type": "code",
   "execution_count": 3,
   "metadata": {
    "colab": {},
    "colab_type": "code",
    "id": "kPWUf1v4EHoT"
   },
   "outputs": [],
   "source": [
    "#importing datasets from Google drive\n",
    "train = pd.read_csv('Train.csv')\n",
    "test=  pd.read_csv('Test.csv')\n",
    "submission = pd.read_csv('SampleSubmission.csv')"
   ]
  },
  {
   "cell_type": "markdown",
   "metadata": {
    "colab_type": "text",
    "id": "sR4oiQZ7DoxM"
   },
   "source": [
    "## ANALYSIS OF THE DATASET AND PREPROCESSING FOR BUILDING MODEL(S)"
   ]
  },
  {
   "cell_type": "code",
   "execution_count": 4,
   "metadata": {
    "colab": {},
    "colab_type": "code",
    "id": "HI9v9g9JEHod"
   },
   "outputs": [
    {
     "data": {
      "text/html": [
       "<div>\n",
       "<style scoped>\n",
       "    .dataframe tbody tr th:only-of-type {\n",
       "        vertical-align: middle;\n",
       "    }\n",
       "\n",
       "    .dataframe tbody tr th {\n",
       "        vertical-align: top;\n",
       "    }\n",
       "\n",
       "    .dataframe thead th {\n",
       "        text-align: right;\n",
       "    }\n",
       "</style>\n",
       "<table border=\"1\" class=\"dataframe\">\n",
       "  <thead>\n",
       "    <tr style=\"text-align: right;\">\n",
       "      <th></th>\n",
       "      <th>user_id</th>\n",
       "      <th>REGION</th>\n",
       "      <th>TENURE</th>\n",
       "      <th>MONTANT</th>\n",
       "      <th>FREQUENCE_RECH</th>\n",
       "      <th>REVENUE</th>\n",
       "      <th>ARPU_SEGMENT</th>\n",
       "      <th>FREQUENCE</th>\n",
       "      <th>DATA_VOLUME</th>\n",
       "      <th>ON_NET</th>\n",
       "      <th>ORANGE</th>\n",
       "      <th>TIGO</th>\n",
       "      <th>ZONE1</th>\n",
       "      <th>ZONE2</th>\n",
       "      <th>MRG</th>\n",
       "      <th>REGULARITY</th>\n",
       "      <th>TOP_PACK</th>\n",
       "      <th>FREQ_TOP_PACK</th>\n",
       "      <th>CHURN</th>\n",
       "    </tr>\n",
       "  </thead>\n",
       "  <tbody>\n",
       "    <tr>\n",
       "      <th>0</th>\n",
       "      <td>00000bfd7d50f01092811bc0c8d7b0d6fe7c3596</td>\n",
       "      <td>FATICK</td>\n",
       "      <td>K &gt; 24 month</td>\n",
       "      <td>4250.0</td>\n",
       "      <td>15.0</td>\n",
       "      <td>4251.0</td>\n",
       "      <td>1417.0</td>\n",
       "      <td>17.0</td>\n",
       "      <td>4.0</td>\n",
       "      <td>388.0</td>\n",
       "      <td>46.0</td>\n",
       "      <td>1.0</td>\n",
       "      <td>1.0</td>\n",
       "      <td>2.0</td>\n",
       "      <td>NO</td>\n",
       "      <td>54</td>\n",
       "      <td>On net 200F=Unlimited _call24H</td>\n",
       "      <td>8.0</td>\n",
       "      <td>0</td>\n",
       "    </tr>\n",
       "    <tr>\n",
       "      <th>1</th>\n",
       "      <td>00000cb4a5d760de88fecb38e2f71b7bec52e834</td>\n",
       "      <td>NaN</td>\n",
       "      <td>I 18-21 month</td>\n",
       "      <td>NaN</td>\n",
       "      <td>NaN</td>\n",
       "      <td>NaN</td>\n",
       "      <td>NaN</td>\n",
       "      <td>NaN</td>\n",
       "      <td>NaN</td>\n",
       "      <td>NaN</td>\n",
       "      <td>NaN</td>\n",
       "      <td>NaN</td>\n",
       "      <td>NaN</td>\n",
       "      <td>NaN</td>\n",
       "      <td>NO</td>\n",
       "      <td>4</td>\n",
       "      <td>NaN</td>\n",
       "      <td>NaN</td>\n",
       "      <td>1</td>\n",
       "    </tr>\n",
       "    <tr>\n",
       "      <th>2</th>\n",
       "      <td>00001654a9d9f96303d9969d0a4a851714a4bb57</td>\n",
       "      <td>NaN</td>\n",
       "      <td>K &gt; 24 month</td>\n",
       "      <td>3600.0</td>\n",
       "      <td>2.0</td>\n",
       "      <td>1020.0</td>\n",
       "      <td>340.0</td>\n",
       "      <td>2.0</td>\n",
       "      <td>NaN</td>\n",
       "      <td>90.0</td>\n",
       "      <td>46.0</td>\n",
       "      <td>7.0</td>\n",
       "      <td>NaN</td>\n",
       "      <td>NaN</td>\n",
       "      <td>NO</td>\n",
       "      <td>17</td>\n",
       "      <td>On-net 1000F=10MilF;10d</td>\n",
       "      <td>1.0</td>\n",
       "      <td>0</td>\n",
       "    </tr>\n",
       "    <tr>\n",
       "      <th>3</th>\n",
       "      <td>00001dd6fa45f7ba044bd5d84937be464ce78ac2</td>\n",
       "      <td>DAKAR</td>\n",
       "      <td>K &gt; 24 month</td>\n",
       "      <td>13500.0</td>\n",
       "      <td>15.0</td>\n",
       "      <td>13502.0</td>\n",
       "      <td>4501.0</td>\n",
       "      <td>18.0</td>\n",
       "      <td>43804.0</td>\n",
       "      <td>41.0</td>\n",
       "      <td>102.0</td>\n",
       "      <td>2.0</td>\n",
       "      <td>NaN</td>\n",
       "      <td>NaN</td>\n",
       "      <td>NO</td>\n",
       "      <td>62</td>\n",
       "      <td>Data:1000F=5GB,7d</td>\n",
       "      <td>11.0</td>\n",
       "      <td>0</td>\n",
       "    </tr>\n",
       "    <tr>\n",
       "      <th>4</th>\n",
       "      <td>000028d9e13a595abe061f9b58f3d76ab907850f</td>\n",
       "      <td>DAKAR</td>\n",
       "      <td>K &gt; 24 month</td>\n",
       "      <td>1000.0</td>\n",
       "      <td>1.0</td>\n",
       "      <td>985.0</td>\n",
       "      <td>328.0</td>\n",
       "      <td>1.0</td>\n",
       "      <td>NaN</td>\n",
       "      <td>39.0</td>\n",
       "      <td>24.0</td>\n",
       "      <td>NaN</td>\n",
       "      <td>NaN</td>\n",
       "      <td>NaN</td>\n",
       "      <td>NO</td>\n",
       "      <td>11</td>\n",
       "      <td>Mixt 250F=Unlimited_call24H</td>\n",
       "      <td>2.0</td>\n",
       "      <td>0</td>\n",
       "    </tr>\n",
       "  </tbody>\n",
       "</table>\n",
       "</div>"
      ],
      "text/plain": [
       "                                    user_id  REGION         TENURE  MONTANT  \\\n",
       "0  00000bfd7d50f01092811bc0c8d7b0d6fe7c3596  FATICK   K > 24 month   4250.0   \n",
       "1  00000cb4a5d760de88fecb38e2f71b7bec52e834     NaN  I 18-21 month      NaN   \n",
       "2  00001654a9d9f96303d9969d0a4a851714a4bb57     NaN   K > 24 month   3600.0   \n",
       "3  00001dd6fa45f7ba044bd5d84937be464ce78ac2   DAKAR   K > 24 month  13500.0   \n",
       "4  000028d9e13a595abe061f9b58f3d76ab907850f   DAKAR   K > 24 month   1000.0   \n",
       "\n",
       "   FREQUENCE_RECH  REVENUE  ARPU_SEGMENT  FREQUENCE  DATA_VOLUME  ON_NET  \\\n",
       "0            15.0   4251.0        1417.0       17.0          4.0   388.0   \n",
       "1             NaN      NaN           NaN        NaN          NaN     NaN   \n",
       "2             2.0   1020.0         340.0        2.0          NaN    90.0   \n",
       "3            15.0  13502.0        4501.0       18.0      43804.0    41.0   \n",
       "4             1.0    985.0         328.0        1.0          NaN    39.0   \n",
       "\n",
       "   ORANGE  TIGO  ZONE1  ZONE2 MRG  REGULARITY                        TOP_PACK  \\\n",
       "0    46.0   1.0    1.0    2.0  NO          54  On net 200F=Unlimited _call24H   \n",
       "1     NaN   NaN    NaN    NaN  NO           4                             NaN   \n",
       "2    46.0   7.0    NaN    NaN  NO          17         On-net 1000F=10MilF;10d   \n",
       "3   102.0   2.0    NaN    NaN  NO          62               Data:1000F=5GB,7d   \n",
       "4    24.0   NaN    NaN    NaN  NO          11     Mixt 250F=Unlimited_call24H   \n",
       "\n",
       "   FREQ_TOP_PACK  CHURN  \n",
       "0            8.0      0  \n",
       "1            NaN      1  \n",
       "2            1.0      0  \n",
       "3           11.0      0  \n",
       "4            2.0      0  "
      ]
     },
     "execution_count": 4,
     "metadata": {},
     "output_type": "execute_result"
    }
   ],
   "source": [
    "#Viewing the head(first 5 rows) of the train dataset\n",
    "train.head()"
   ]
  },
  {
   "cell_type": "code",
   "execution_count": 5,
   "metadata": {
    "colab": {},
    "colab_type": "code",
    "id": "a-I6nouuEHok"
   },
   "outputs": [
    {
     "data": {
      "text/html": [
       "<div>\n",
       "<style scoped>\n",
       "    .dataframe tbody tr th:only-of-type {\n",
       "        vertical-align: middle;\n",
       "    }\n",
       "\n",
       "    .dataframe tbody tr th {\n",
       "        vertical-align: top;\n",
       "    }\n",
       "\n",
       "    .dataframe thead th {\n",
       "        text-align: right;\n",
       "    }\n",
       "</style>\n",
       "<table border=\"1\" class=\"dataframe\">\n",
       "  <thead>\n",
       "    <tr style=\"text-align: right;\">\n",
       "      <th></th>\n",
       "      <th>user_id</th>\n",
       "      <th>REGION</th>\n",
       "      <th>TENURE</th>\n",
       "      <th>MONTANT</th>\n",
       "      <th>FREQUENCE_RECH</th>\n",
       "      <th>REVENUE</th>\n",
       "      <th>ARPU_SEGMENT</th>\n",
       "      <th>FREQUENCE</th>\n",
       "      <th>DATA_VOLUME</th>\n",
       "      <th>ON_NET</th>\n",
       "      <th>ORANGE</th>\n",
       "      <th>TIGO</th>\n",
       "      <th>ZONE1</th>\n",
       "      <th>ZONE2</th>\n",
       "      <th>MRG</th>\n",
       "      <th>REGULARITY</th>\n",
       "      <th>TOP_PACK</th>\n",
       "      <th>FREQ_TOP_PACK</th>\n",
       "      <th>CHURN</th>\n",
       "    </tr>\n",
       "  </thead>\n",
       "  <tbody>\n",
       "    <tr>\n",
       "      <th>2154043</th>\n",
       "      <td>ffffe85215ddc71a84f95af0afb0deeea90e6967</td>\n",
       "      <td>NaN</td>\n",
       "      <td>K &gt; 24 month</td>\n",
       "      <td>NaN</td>\n",
       "      <td>NaN</td>\n",
       "      <td>NaN</td>\n",
       "      <td>NaN</td>\n",
       "      <td>NaN</td>\n",
       "      <td>NaN</td>\n",
       "      <td>NaN</td>\n",
       "      <td>NaN</td>\n",
       "      <td>NaN</td>\n",
       "      <td>NaN</td>\n",
       "      <td>NaN</td>\n",
       "      <td>NO</td>\n",
       "      <td>6</td>\n",
       "      <td>NaN</td>\n",
       "      <td>NaN</td>\n",
       "      <td>0</td>\n",
       "    </tr>\n",
       "    <tr>\n",
       "      <th>2154044</th>\n",
       "      <td>ffffeaaa9289cdba0ac000f0ab4b48f4aa74ed15</td>\n",
       "      <td>THIES</td>\n",
       "      <td>K &gt; 24 month</td>\n",
       "      <td>6100.0</td>\n",
       "      <td>15.0</td>\n",
       "      <td>5800.0</td>\n",
       "      <td>1933.0</td>\n",
       "      <td>15.0</td>\n",
       "      <td>621.0</td>\n",
       "      <td>26.0</td>\n",
       "      <td>40.0</td>\n",
       "      <td>40.0</td>\n",
       "      <td>NaN</td>\n",
       "      <td>NaN</td>\n",
       "      <td>NO</td>\n",
       "      <td>55</td>\n",
       "      <td>Data: 200 F=100MB,24H</td>\n",
       "      <td>9.0</td>\n",
       "      <td>0</td>\n",
       "    </tr>\n",
       "    <tr>\n",
       "      <th>2154045</th>\n",
       "      <td>fffff172fda1b4bb38a95385951908bb92379809</td>\n",
       "      <td>NaN</td>\n",
       "      <td>K &gt; 24 month</td>\n",
       "      <td>NaN</td>\n",
       "      <td>NaN</td>\n",
       "      <td>NaN</td>\n",
       "      <td>NaN</td>\n",
       "      <td>NaN</td>\n",
       "      <td>NaN</td>\n",
       "      <td>NaN</td>\n",
       "      <td>NaN</td>\n",
       "      <td>NaN</td>\n",
       "      <td>NaN</td>\n",
       "      <td>NaN</td>\n",
       "      <td>NO</td>\n",
       "      <td>1</td>\n",
       "      <td>NaN</td>\n",
       "      <td>NaN</td>\n",
       "      <td>1</td>\n",
       "    </tr>\n",
       "    <tr>\n",
       "      <th>2154046</th>\n",
       "      <td>fffff5911296937a37f09a37a549da2e0dad6dbb</td>\n",
       "      <td>THIES</td>\n",
       "      <td>K &gt; 24 month</td>\n",
       "      <td>10000.0</td>\n",
       "      <td>11.0</td>\n",
       "      <td>7120.0</td>\n",
       "      <td>2373.0</td>\n",
       "      <td>13.0</td>\n",
       "      <td>NaN</td>\n",
       "      <td>0.0</td>\n",
       "      <td>140.0</td>\n",
       "      <td>13.0</td>\n",
       "      <td>NaN</td>\n",
       "      <td>NaN</td>\n",
       "      <td>NO</td>\n",
       "      <td>28</td>\n",
       "      <td>All-net 500F=2000F;5d</td>\n",
       "      <td>12.0</td>\n",
       "      <td>0</td>\n",
       "    </tr>\n",
       "    <tr>\n",
       "      <th>2154047</th>\n",
       "      <td>fffff6dbff1508ea2bfe814e5ab2729ce6b788c2</td>\n",
       "      <td>NaN</td>\n",
       "      <td>K &gt; 24 month</td>\n",
       "      <td>NaN</td>\n",
       "      <td>NaN</td>\n",
       "      <td>NaN</td>\n",
       "      <td>NaN</td>\n",
       "      <td>NaN</td>\n",
       "      <td>2.0</td>\n",
       "      <td>NaN</td>\n",
       "      <td>NaN</td>\n",
       "      <td>NaN</td>\n",
       "      <td>NaN</td>\n",
       "      <td>NaN</td>\n",
       "      <td>NO</td>\n",
       "      <td>62</td>\n",
       "      <td>NaN</td>\n",
       "      <td>NaN</td>\n",
       "      <td>1</td>\n",
       "    </tr>\n",
       "  </tbody>\n",
       "</table>\n",
       "</div>"
      ],
      "text/plain": [
       "                                          user_id REGION        TENURE  \\\n",
       "2154043  ffffe85215ddc71a84f95af0afb0deeea90e6967    NaN  K > 24 month   \n",
       "2154044  ffffeaaa9289cdba0ac000f0ab4b48f4aa74ed15  THIES  K > 24 month   \n",
       "2154045  fffff172fda1b4bb38a95385951908bb92379809    NaN  K > 24 month   \n",
       "2154046  fffff5911296937a37f09a37a549da2e0dad6dbb  THIES  K > 24 month   \n",
       "2154047  fffff6dbff1508ea2bfe814e5ab2729ce6b788c2    NaN  K > 24 month   \n",
       "\n",
       "         MONTANT  FREQUENCE_RECH  REVENUE  ARPU_SEGMENT  FREQUENCE  \\\n",
       "2154043      NaN             NaN      NaN           NaN        NaN   \n",
       "2154044   6100.0            15.0   5800.0        1933.0       15.0   \n",
       "2154045      NaN             NaN      NaN           NaN        NaN   \n",
       "2154046  10000.0            11.0   7120.0        2373.0       13.0   \n",
       "2154047      NaN             NaN      NaN           NaN        NaN   \n",
       "\n",
       "         DATA_VOLUME  ON_NET  ORANGE  TIGO  ZONE1  ZONE2 MRG  REGULARITY  \\\n",
       "2154043          NaN     NaN     NaN   NaN    NaN    NaN  NO           6   \n",
       "2154044        621.0    26.0    40.0  40.0    NaN    NaN  NO          55   \n",
       "2154045          NaN     NaN     NaN   NaN    NaN    NaN  NO           1   \n",
       "2154046          NaN     0.0   140.0  13.0    NaN    NaN  NO          28   \n",
       "2154047          2.0     NaN     NaN   NaN    NaN    NaN  NO          62   \n",
       "\n",
       "                      TOP_PACK  FREQ_TOP_PACK  CHURN  \n",
       "2154043                    NaN            NaN      0  \n",
       "2154044  Data: 200 F=100MB,24H            9.0      0  \n",
       "2154045                    NaN            NaN      1  \n",
       "2154046  All-net 500F=2000F;5d           12.0      0  \n",
       "2154047                    NaN            NaN      1  "
      ]
     },
     "execution_count": 5,
     "metadata": {},
     "output_type": "execute_result"
    }
   ],
   "source": [
    "#Viewing the tail(last 5 rows) in the train dataset\n",
    "train.tail()"
   ]
  },
  {
   "cell_type": "code",
   "execution_count": 6,
   "metadata": {
    "colab": {},
    "colab_type": "code",
    "id": "HKD77VwaEHoo"
   },
   "outputs": [
    {
     "data": {
      "text/plain": [
       "(2154048, 19)"
      ]
     },
     "execution_count": 6,
     "metadata": {},
     "output_type": "execute_result"
    }
   ],
   "source": [
    "#Viewing the matrix layout(number of columns and rows) of the train dataset\n",
    "train.shape"
   ]
  },
  {
   "cell_type": "code",
   "execution_count": 7,
   "metadata": {
    "colab": {},
    "colab_type": "code",
    "id": "5_CCXBb2EHow"
   },
   "outputs": [
    {
     "name": "stdout",
     "output_type": "stream",
     "text": [
      "<class 'pandas.core.frame.DataFrame'>\n",
      "RangeIndex: 2154048 entries, 0 to 2154047\n",
      "Data columns (total 19 columns):\n",
      " #   Column          Dtype  \n",
      "---  ------          -----  \n",
      " 0   user_id         object \n",
      " 1   REGION          object \n",
      " 2   TENURE          object \n",
      " 3   MONTANT         float64\n",
      " 4   FREQUENCE_RECH  float64\n",
      " 5   REVENUE         float64\n",
      " 6   ARPU_SEGMENT    float64\n",
      " 7   FREQUENCE       float64\n",
      " 8   DATA_VOLUME     float64\n",
      " 9   ON_NET          float64\n",
      " 10  ORANGE          float64\n",
      " 11  TIGO            float64\n",
      " 12  ZONE1           float64\n",
      " 13  ZONE2           float64\n",
      " 14  MRG             object \n",
      " 15  REGULARITY      int64  \n",
      " 16  TOP_PACK        object \n",
      " 17  FREQ_TOP_PACK   float64\n",
      " 18  CHURN           int64  \n",
      "dtypes: float64(12), int64(2), object(5)\n",
      "memory usage: 312.2+ MB\n"
     ]
    }
   ],
   "source": [
    "#view the data types in the train data\n",
    "train.info()"
   ]
  },
  {
   "cell_type": "code",
   "execution_count": 8,
   "metadata": {
    "colab": {},
    "colab_type": "code",
    "id": "iip1viZIEHo2"
   },
   "outputs": [
    {
     "data": {
      "text/html": [
       "<div>\n",
       "<style scoped>\n",
       "    .dataframe tbody tr th:only-of-type {\n",
       "        vertical-align: middle;\n",
       "    }\n",
       "\n",
       "    .dataframe tbody tr th {\n",
       "        vertical-align: top;\n",
       "    }\n",
       "\n",
       "    .dataframe thead th {\n",
       "        text-align: right;\n",
       "    }\n",
       "</style>\n",
       "<table border=\"1\" class=\"dataframe\">\n",
       "  <thead>\n",
       "    <tr style=\"text-align: right;\">\n",
       "      <th></th>\n",
       "      <th>user_id</th>\n",
       "      <th>REGION</th>\n",
       "      <th>TENURE</th>\n",
       "      <th>MONTANT</th>\n",
       "      <th>FREQUENCE_RECH</th>\n",
       "      <th>REVENUE</th>\n",
       "      <th>ARPU_SEGMENT</th>\n",
       "      <th>FREQUENCE</th>\n",
       "      <th>DATA_VOLUME</th>\n",
       "      <th>ON_NET</th>\n",
       "      <th>ORANGE</th>\n",
       "      <th>TIGO</th>\n",
       "      <th>ZONE1</th>\n",
       "      <th>ZONE2</th>\n",
       "      <th>MRG</th>\n",
       "      <th>REGULARITY</th>\n",
       "      <th>TOP_PACK</th>\n",
       "      <th>FREQ_TOP_PACK</th>\n",
       "    </tr>\n",
       "  </thead>\n",
       "  <tbody>\n",
       "    <tr>\n",
       "      <th>0</th>\n",
       "      <td>00001dbe00e56fc4b1c1b65dda63de2a5ece55f9</td>\n",
       "      <td>THIES</td>\n",
       "      <td>K &gt; 24 month</td>\n",
       "      <td>5000.0</td>\n",
       "      <td>5.0</td>\n",
       "      <td>5000.0</td>\n",
       "      <td>1667.0</td>\n",
       "      <td>5.0</td>\n",
       "      <td>NaN</td>\n",
       "      <td>378.0</td>\n",
       "      <td>11.0</td>\n",
       "      <td>5.0</td>\n",
       "      <td>NaN</td>\n",
       "      <td>NaN</td>\n",
       "      <td>NO</td>\n",
       "      <td>42</td>\n",
       "      <td>On-net 1000F=10MilF;10d</td>\n",
       "      <td>5.0</td>\n",
       "    </tr>\n",
       "    <tr>\n",
       "      <th>1</th>\n",
       "      <td>000055d41c8a62052dd426592e8a4a3342bf565d</td>\n",
       "      <td>NaN</td>\n",
       "      <td>I 18-21 month</td>\n",
       "      <td>300.0</td>\n",
       "      <td>2.0</td>\n",
       "      <td>326.0</td>\n",
       "      <td>109.0</td>\n",
       "      <td>3.0</td>\n",
       "      <td>397.0</td>\n",
       "      <td>NaN</td>\n",
       "      <td>0.0</td>\n",
       "      <td>NaN</td>\n",
       "      <td>NaN</td>\n",
       "      <td>NaN</td>\n",
       "      <td>NO</td>\n",
       "      <td>41</td>\n",
       "      <td>Data: 100 F=40MB,24H</td>\n",
       "      <td>1.0</td>\n",
       "    </tr>\n",
       "    <tr>\n",
       "      <th>2</th>\n",
       "      <td>000081dd3245e6869a4a9c574c7050e7bb84c2c8</td>\n",
       "      <td>DAKAR</td>\n",
       "      <td>K &gt; 24 month</td>\n",
       "      <td>3300.0</td>\n",
       "      <td>25.0</td>\n",
       "      <td>3400.0</td>\n",
       "      <td>1133.0</td>\n",
       "      <td>26.0</td>\n",
       "      <td>7150.0</td>\n",
       "      <td>0.0</td>\n",
       "      <td>2.0</td>\n",
       "      <td>5.0</td>\n",
       "      <td>NaN</td>\n",
       "      <td>NaN</td>\n",
       "      <td>NO</td>\n",
       "      <td>57</td>\n",
       "      <td>Data: 100 F=40MB,24H</td>\n",
       "      <td>22.0</td>\n",
       "    </tr>\n",
       "    <tr>\n",
       "      <th>3</th>\n",
       "      <td>0000b76d2145d9445d9ff6b65c9ebc4196c89337</td>\n",
       "      <td>NaN</td>\n",
       "      <td>K &gt; 24 month</td>\n",
       "      <td>NaN</td>\n",
       "      <td>NaN</td>\n",
       "      <td>NaN</td>\n",
       "      <td>NaN</td>\n",
       "      <td>NaN</td>\n",
       "      <td>NaN</td>\n",
       "      <td>NaN</td>\n",
       "      <td>NaN</td>\n",
       "      <td>NaN</td>\n",
       "      <td>NaN</td>\n",
       "      <td>NaN</td>\n",
       "      <td>NO</td>\n",
       "      <td>9</td>\n",
       "      <td>NaN</td>\n",
       "      <td>NaN</td>\n",
       "    </tr>\n",
       "    <tr>\n",
       "      <th>4</th>\n",
       "      <td>0000bae5480628cf8fe51ad84bcb39772fc79224</td>\n",
       "      <td>NaN</td>\n",
       "      <td>K &gt; 24 month</td>\n",
       "      <td>NaN</td>\n",
       "      <td>NaN</td>\n",
       "      <td>NaN</td>\n",
       "      <td>NaN</td>\n",
       "      <td>NaN</td>\n",
       "      <td>NaN</td>\n",
       "      <td>NaN</td>\n",
       "      <td>NaN</td>\n",
       "      <td>NaN</td>\n",
       "      <td>NaN</td>\n",
       "      <td>NaN</td>\n",
       "      <td>NO</td>\n",
       "      <td>10</td>\n",
       "      <td>NaN</td>\n",
       "      <td>NaN</td>\n",
       "    </tr>\n",
       "  </tbody>\n",
       "</table>\n",
       "</div>"
      ],
      "text/plain": [
       "                                    user_id REGION         TENURE  MONTANT  \\\n",
       "0  00001dbe00e56fc4b1c1b65dda63de2a5ece55f9  THIES   K > 24 month   5000.0   \n",
       "1  000055d41c8a62052dd426592e8a4a3342bf565d    NaN  I 18-21 month    300.0   \n",
       "2  000081dd3245e6869a4a9c574c7050e7bb84c2c8  DAKAR   K > 24 month   3300.0   \n",
       "3  0000b76d2145d9445d9ff6b65c9ebc4196c89337    NaN   K > 24 month      NaN   \n",
       "4  0000bae5480628cf8fe51ad84bcb39772fc79224    NaN   K > 24 month      NaN   \n",
       "\n",
       "   FREQUENCE_RECH  REVENUE  ARPU_SEGMENT  FREQUENCE  DATA_VOLUME  ON_NET  \\\n",
       "0             5.0   5000.0        1667.0        5.0          NaN   378.0   \n",
       "1             2.0    326.0         109.0        3.0        397.0     NaN   \n",
       "2            25.0   3400.0        1133.0       26.0       7150.0     0.0   \n",
       "3             NaN      NaN           NaN        NaN          NaN     NaN   \n",
       "4             NaN      NaN           NaN        NaN          NaN     NaN   \n",
       "\n",
       "   ORANGE  TIGO  ZONE1  ZONE2 MRG  REGULARITY                 TOP_PACK  \\\n",
       "0    11.0   5.0    NaN    NaN  NO          42  On-net 1000F=10MilF;10d   \n",
       "1     0.0   NaN    NaN    NaN  NO          41     Data: 100 F=40MB,24H   \n",
       "2     2.0   5.0    NaN    NaN  NO          57     Data: 100 F=40MB,24H   \n",
       "3     NaN   NaN    NaN    NaN  NO           9                      NaN   \n",
       "4     NaN   NaN    NaN    NaN  NO          10                      NaN   \n",
       "\n",
       "   FREQ_TOP_PACK  \n",
       "0            5.0  \n",
       "1            1.0  \n",
       "2           22.0  \n",
       "3            NaN  \n",
       "4            NaN  "
      ]
     },
     "execution_count": 8,
     "metadata": {},
     "output_type": "execute_result"
    }
   ],
   "source": [
    "#Viewing the head(first 5 rows) of the test dataset\n",
    "test.head()"
   ]
  },
  {
   "cell_type": "code",
   "execution_count": 9,
   "metadata": {
    "colab": {},
    "colab_type": "code",
    "id": "-roAaaGsEHpB"
   },
   "outputs": [
    {
     "data": {
      "text/html": [
       "<div>\n",
       "<style scoped>\n",
       "    .dataframe tbody tr th:only-of-type {\n",
       "        vertical-align: middle;\n",
       "    }\n",
       "\n",
       "    .dataframe tbody tr th {\n",
       "        vertical-align: top;\n",
       "    }\n",
       "\n",
       "    .dataframe thead th {\n",
       "        text-align: right;\n",
       "    }\n",
       "</style>\n",
       "<table border=\"1\" class=\"dataframe\">\n",
       "  <thead>\n",
       "    <tr style=\"text-align: right;\">\n",
       "      <th></th>\n",
       "      <th>user_id</th>\n",
       "      <th>REGION</th>\n",
       "      <th>TENURE</th>\n",
       "      <th>MONTANT</th>\n",
       "      <th>FREQUENCE_RECH</th>\n",
       "      <th>REVENUE</th>\n",
       "      <th>ARPU_SEGMENT</th>\n",
       "      <th>FREQUENCE</th>\n",
       "      <th>DATA_VOLUME</th>\n",
       "      <th>ON_NET</th>\n",
       "      <th>ORANGE</th>\n",
       "      <th>TIGO</th>\n",
       "      <th>ZONE1</th>\n",
       "      <th>ZONE2</th>\n",
       "      <th>MRG</th>\n",
       "      <th>REGULARITY</th>\n",
       "      <th>TOP_PACK</th>\n",
       "      <th>FREQ_TOP_PACK</th>\n",
       "    </tr>\n",
       "  </thead>\n",
       "  <tbody>\n",
       "    <tr>\n",
       "      <th>380122</th>\n",
       "      <td>fffe7e03c7eede2ad0a728ee516c4d342dd16107</td>\n",
       "      <td>DAKAR</td>\n",
       "      <td>K &gt; 24 month</td>\n",
       "      <td>4000.0</td>\n",
       "      <td>8.0</td>\n",
       "      <td>3999.0</td>\n",
       "      <td>1333.0</td>\n",
       "      <td>8.0</td>\n",
       "      <td>1587.0</td>\n",
       "      <td>26.0</td>\n",
       "      <td>250.0</td>\n",
       "      <td>1.0</td>\n",
       "      <td>NaN</td>\n",
       "      <td>NaN</td>\n",
       "      <td>NO</td>\n",
       "      <td>53</td>\n",
       "      <td>Mixt 250F=Unlimited_call24H</td>\n",
       "      <td>5.0</td>\n",
       "    </tr>\n",
       "    <tr>\n",
       "      <th>380123</th>\n",
       "      <td>fffec230e6a1aa51ab37d0051ece42de611e71c6</td>\n",
       "      <td>NaN</td>\n",
       "      <td>K &gt; 24 month</td>\n",
       "      <td>NaN</td>\n",
       "      <td>NaN</td>\n",
       "      <td>NaN</td>\n",
       "      <td>NaN</td>\n",
       "      <td>NaN</td>\n",
       "      <td>NaN</td>\n",
       "      <td>NaN</td>\n",
       "      <td>NaN</td>\n",
       "      <td>NaN</td>\n",
       "      <td>NaN</td>\n",
       "      <td>NaN</td>\n",
       "      <td>NO</td>\n",
       "      <td>1</td>\n",
       "      <td>NaN</td>\n",
       "      <td>NaN</td>\n",
       "    </tr>\n",
       "    <tr>\n",
       "      <th>380124</th>\n",
       "      <td>ffff0dcc1ab9812bf205b6d76e9d084053cd96f5</td>\n",
       "      <td>NaN</td>\n",
       "      <td>K &gt; 24 month</td>\n",
       "      <td>3950.0</td>\n",
       "      <td>7.0</td>\n",
       "      <td>3949.0</td>\n",
       "      <td>1316.0</td>\n",
       "      <td>10.0</td>\n",
       "      <td>1724.0</td>\n",
       "      <td>25.0</td>\n",
       "      <td>71.0</td>\n",
       "      <td>NaN</td>\n",
       "      <td>NaN</td>\n",
       "      <td>NaN</td>\n",
       "      <td>NO</td>\n",
       "      <td>15</td>\n",
       "      <td>IVR Echat_Daily_50F</td>\n",
       "      <td>6.0</td>\n",
       "    </tr>\n",
       "    <tr>\n",
       "      <th>380125</th>\n",
       "      <td>ffff91ea6a09a0c8ea42bc6ae33df4b5e06283dc</td>\n",
       "      <td>NaN</td>\n",
       "      <td>K &gt; 24 month</td>\n",
       "      <td>3850.0</td>\n",
       "      <td>18.0</td>\n",
       "      <td>3955.0</td>\n",
       "      <td>1318.0</td>\n",
       "      <td>23.0</td>\n",
       "      <td>2962.0</td>\n",
       "      <td>0.0</td>\n",
       "      <td>7.0</td>\n",
       "      <td>NaN</td>\n",
       "      <td>NaN</td>\n",
       "      <td>NaN</td>\n",
       "      <td>NO</td>\n",
       "      <td>29</td>\n",
       "      <td>Data: 100 F=40MB,24H</td>\n",
       "      <td>11.0</td>\n",
       "    </tr>\n",
       "    <tr>\n",
       "      <th>380126</th>\n",
       "      <td>ffffb393b346f5348034e6e22be93778d94d4beb</td>\n",
       "      <td>DIOURBEL</td>\n",
       "      <td>K &gt; 24 month</td>\n",
       "      <td>NaN</td>\n",
       "      <td>NaN</td>\n",
       "      <td>NaN</td>\n",
       "      <td>NaN</td>\n",
       "      <td>NaN</td>\n",
       "      <td>NaN</td>\n",
       "      <td>0.0</td>\n",
       "      <td>NaN</td>\n",
       "      <td>NaN</td>\n",
       "      <td>NaN</td>\n",
       "      <td>NaN</td>\n",
       "      <td>NO</td>\n",
       "      <td>20</td>\n",
       "      <td>NaN</td>\n",
       "      <td>NaN</td>\n",
       "    </tr>\n",
       "  </tbody>\n",
       "</table>\n",
       "</div>"
      ],
      "text/plain": [
       "                                         user_id    REGION        TENURE  \\\n",
       "380122  fffe7e03c7eede2ad0a728ee516c4d342dd16107     DAKAR  K > 24 month   \n",
       "380123  fffec230e6a1aa51ab37d0051ece42de611e71c6       NaN  K > 24 month   \n",
       "380124  ffff0dcc1ab9812bf205b6d76e9d084053cd96f5       NaN  K > 24 month   \n",
       "380125  ffff91ea6a09a0c8ea42bc6ae33df4b5e06283dc       NaN  K > 24 month   \n",
       "380126  ffffb393b346f5348034e6e22be93778d94d4beb  DIOURBEL  K > 24 month   \n",
       "\n",
       "        MONTANT  FREQUENCE_RECH  REVENUE  ARPU_SEGMENT  FREQUENCE  \\\n",
       "380122   4000.0             8.0   3999.0        1333.0        8.0   \n",
       "380123      NaN             NaN      NaN           NaN        NaN   \n",
       "380124   3950.0             7.0   3949.0        1316.0       10.0   \n",
       "380125   3850.0            18.0   3955.0        1318.0       23.0   \n",
       "380126      NaN             NaN      NaN           NaN        NaN   \n",
       "\n",
       "        DATA_VOLUME  ON_NET  ORANGE  TIGO  ZONE1  ZONE2 MRG  REGULARITY  \\\n",
       "380122       1587.0    26.0   250.0   1.0    NaN    NaN  NO          53   \n",
       "380123          NaN     NaN     NaN   NaN    NaN    NaN  NO           1   \n",
       "380124       1724.0    25.0    71.0   NaN    NaN    NaN  NO          15   \n",
       "380125       2962.0     0.0     7.0   NaN    NaN    NaN  NO          29   \n",
       "380126          NaN     0.0     NaN   NaN    NaN    NaN  NO          20   \n",
       "\n",
       "                           TOP_PACK  FREQ_TOP_PACK  \n",
       "380122  Mixt 250F=Unlimited_call24H            5.0  \n",
       "380123                          NaN            NaN  \n",
       "380124          IVR Echat_Daily_50F            6.0  \n",
       "380125         Data: 100 F=40MB,24H           11.0  \n",
       "380126                          NaN            NaN  "
      ]
     },
     "execution_count": 9,
     "metadata": {},
     "output_type": "execute_result"
    }
   ],
   "source": [
    "#Viewing the tail(last 5 rows) of the test dataset\n",
    "test.tail()"
   ]
  },
  {
   "cell_type": "code",
   "execution_count": 10,
   "metadata": {
    "colab": {},
    "colab_type": "code",
    "id": "49gHeMjbEHpG"
   },
   "outputs": [
    {
     "data": {
      "text/plain": [
       "(380127, 18)"
      ]
     },
     "execution_count": 10,
     "metadata": {},
     "output_type": "execute_result"
    }
   ],
   "source": [
    "# Viewing the matrix shape (number of columns and rows) in the test dataset\n",
    "\n",
    "test.shape"
   ]
  },
  {
   "cell_type": "code",
   "execution_count": 11,
   "metadata": {
    "colab": {},
    "colab_type": "code",
    "id": "c6QmehhDEHpO"
   },
   "outputs": [
    {
     "name": "stdout",
     "output_type": "stream",
     "text": [
      "<class 'pandas.core.frame.DataFrame'>\n",
      "RangeIndex: 380127 entries, 0 to 380126\n",
      "Data columns (total 18 columns):\n",
      " #   Column          Non-Null Count   Dtype  \n",
      "---  ------          --------------   -----  \n",
      " 0   user_id         380127 non-null  object \n",
      " 1   REGION          230399 non-null  object \n",
      " 2   TENURE          380127 non-null  object \n",
      " 3   MONTANT         247072 non-null  float64\n",
      " 4   FREQUENCE_RECH  247072 non-null  float64\n",
      " 5   REVENUE         252754 non-null  float64\n",
      " 6   ARPU_SEGMENT    252754 non-null  float64\n",
      " 7   FREQUENCE       252754 non-null  float64\n",
      " 8   DATA_VOLUME     193087 non-null  float64\n",
      " 9   ON_NET          241613 non-null  float64\n",
      " 10  ORANGE          222897 non-null  float64\n",
      " 11  TIGO            153126 non-null  float64\n",
      " 12  ZONE1           29861 non-null   float64\n",
      " 13  ZONE2           24076 non-null   float64\n",
      " 14  MRG             380127 non-null  object \n",
      " 15  REGULARITY      380127 non-null  int64  \n",
      " 16  TOP_PACK        221348 non-null  object \n",
      " 17  FREQ_TOP_PACK   221348 non-null  float64\n",
      "dtypes: float64(12), int64(1), object(5)\n",
      "memory usage: 52.2+ MB\n"
     ]
    }
   ],
   "source": [
    "# Viewing the data types of the test file\n",
    "\n",
    "test.info()"
   ]
  },
  {
   "cell_type": "code",
   "execution_count": 12,
   "metadata": {
    "colab": {},
    "colab_type": "code",
    "id": "duF0RgaaEHpT"
   },
   "outputs": [
    {
     "data": {
      "text/html": [
       "<div>\n",
       "<style scoped>\n",
       "    .dataframe tbody tr th:only-of-type {\n",
       "        vertical-align: middle;\n",
       "    }\n",
       "\n",
       "    .dataframe tbody tr th {\n",
       "        vertical-align: top;\n",
       "    }\n",
       "\n",
       "    .dataframe thead th {\n",
       "        text-align: right;\n",
       "    }\n",
       "</style>\n",
       "<table border=\"1\" class=\"dataframe\">\n",
       "  <thead>\n",
       "    <tr style=\"text-align: right;\">\n",
       "      <th></th>\n",
       "      <th>user_id</th>\n",
       "      <th>CHURN</th>\n",
       "    </tr>\n",
       "  </thead>\n",
       "  <tbody>\n",
       "    <tr>\n",
       "      <th>0</th>\n",
       "      <td>00001dbe00e56fc4b1c1b65dda63de2a5ece55f9</td>\n",
       "      <td>0</td>\n",
       "    </tr>\n",
       "    <tr>\n",
       "      <th>1</th>\n",
       "      <td>000055d41c8a62052dd426592e8a4a3342bf565d</td>\n",
       "      <td>0</td>\n",
       "    </tr>\n",
       "    <tr>\n",
       "      <th>2</th>\n",
       "      <td>000081dd3245e6869a4a9c574c7050e7bb84c2c8</td>\n",
       "      <td>0</td>\n",
       "    </tr>\n",
       "    <tr>\n",
       "      <th>3</th>\n",
       "      <td>0000b76d2145d9445d9ff6b65c9ebc4196c89337</td>\n",
       "      <td>0</td>\n",
       "    </tr>\n",
       "    <tr>\n",
       "      <th>4</th>\n",
       "      <td>0000bae5480628cf8fe51ad84bcb39772fc79224</td>\n",
       "      <td>0</td>\n",
       "    </tr>\n",
       "  </tbody>\n",
       "</table>\n",
       "</div>"
      ],
      "text/plain": [
       "                                    user_id  CHURN\n",
       "0  00001dbe00e56fc4b1c1b65dda63de2a5ece55f9      0\n",
       "1  000055d41c8a62052dd426592e8a4a3342bf565d      0\n",
       "2  000081dd3245e6869a4a9c574c7050e7bb84c2c8      0\n",
       "3  0000b76d2145d9445d9ff6b65c9ebc4196c89337      0\n",
       "4  0000bae5480628cf8fe51ad84bcb39772fc79224      0"
      ]
     },
     "execution_count": 12,
     "metadata": {},
     "output_type": "execute_result"
    }
   ],
   "source": [
    "#Viewing the head(first 5 rows of the submission data file)\n",
    "\n",
    "submission.head()"
   ]
  },
  {
   "cell_type": "code",
   "execution_count": 13,
   "metadata": {
    "colab": {},
    "colab_type": "code",
    "id": "QB-tg8bNEHpX"
   },
   "outputs": [
    {
     "data": {
      "text/plain": [
       "(380127, 2)"
      ]
     },
     "execution_count": 13,
     "metadata": {},
     "output_type": "execute_result"
    }
   ],
   "source": [
    "# Viewing the shape(matrix layout with number of rows and columns) in the submission data file\n",
    "\n",
    "submission.shape"
   ]
  },
  {
   "cell_type": "markdown",
   "metadata": {
    "colab_type": "text",
    "id": "aP5sXPyUF2XE"
   },
   "source": [
    "#### Check how many levels are involved in each of the categorical features (object)"
   ]
  },
  {
   "cell_type": "code",
   "execution_count": 14,
   "metadata": {
    "colab": {},
    "colab_type": "code",
    "id": "CObywAl6EHpg"
   },
   "outputs": [
    {
     "name": "stdout",
     "output_type": "stream",
     "text": [
      "DAKAR          513271\n",
      "THIES          180052\n",
      "SAINT-LOUIS    119886\n",
      "LOUGA           99053\n",
      "KAOLACK         96986\n",
      "DIOURBEL        66911\n",
      "TAMBACOUNDA     55074\n",
      "KAFFRINE        43963\n",
      "KOLDA           38743\n",
      "FATICK          35643\n",
      "MATAM           29083\n",
      "ZIGUINCHOR      21945\n",
      "SEDHIOU          3119\n",
      "KEDOUGOU         1020\n",
      "Name: REGION, dtype: int64\n"
     ]
    },
    {
     "data": {
      "text/plain": [
       "Text(0.5, 0, 'REGION')"
      ]
     },
     "execution_count": 14,
     "metadata": {},
     "output_type": "execute_result"
    },
    {
     "data": {
      "image/png": "[encoded data removed]",
      "text/plain": [
       "<Figure size 720x360 with 1 Axes>"
      ]
     },
     "metadata": {
      "needs_background": "light"
     },
     "output_type": "display_data"
    }
   ],
   "source": [
    "# Checking the number of levels for the REGION feature\n",
    "print(train['REGION'].value_counts())\n",
    "plt.figure(figsize=(10,5))\n",
    "train['REGION'].value_counts(normalize=True).plot(kind='bar')\n",
    "plt.ylabel('counts')\n",
    "plt.xlabel('REGION')"
   ]
  },
  {
   "cell_type": "code",
   "execution_count": 15,
   "metadata": {
    "colab": {},
    "colab_type": "code",
    "id": "35ccCPlDEHpk"
   },
   "outputs": [
    {
     "name": "stdout",
     "output_type": "stream",
     "text": [
      "K > 24 month     2043201\n",
      "I 18-21 month      45278\n",
      "H 15-18 month      26006\n",
      "G 12-15 month      14901\n",
      "J 21-24 month      12725\n",
      "F 9-12 month        9328\n",
      "E 6-9 month         1839\n",
      "D 3-6 month          770\n",
      "Name: TENURE, dtype: int64\n"
     ]
    },
    {
     "data": {
      "text/plain": [
       "Text(0.5, 0, 'TENURE')"
      ]
     },
     "execution_count": 15,
     "metadata": {},
     "output_type": "execute_result"
    },
    {
     "data": {
      "image/png": "[encoded data removed]",
      "text/plain": [
       "<Figure size 720x360 with 1 Axes>"
      ]
     },
     "metadata": {
      "needs_background": "light"
     },
     "output_type": "display_data"
    }
   ],
   "source": [
    "# Checking the number of levels for the TENURE feature\n",
    "print(train['TENURE'].value_counts())\n",
    "plt.figure(figsize=(10,5))\n",
    "train['TENURE'].value_counts(normalize=True).plot(kind='bar')\n",
    "plt.ylabel('counts')\n",
    "plt.xlabel('TENURE')"
   ]
  },
  {
   "cell_type": "code",
   "execution_count": 16,
   "metadata": {
    "colab": {},
    "colab_type": "code",
    "id": "AC0E_G1CEHpp"
   },
   "outputs": [
    {
     "name": "stdout",
     "output_type": "stream",
     "text": [
      "NO    2154048\n",
      "Name: MRG, dtype: int64\n"
     ]
    },
    {
     "data": {
      "text/plain": [
       "Text(0.5, 0, 'MRG')"
      ]
     },
     "execution_count": 16,
     "metadata": {},
     "output_type": "execute_result"
    },
    {
     "data": {
      "image/png": "[encoded data removed]",
      "text/plain": [
       "<Figure size 720x360 with 1 Axes>"
      ]
     },
     "metadata": {
      "needs_background": "light"
     },
     "output_type": "display_data"
    }
   ],
   "source": [
    "# Checking the number of levels for the REGION feature\n",
    "\n",
    "print(train['MRG'].value_counts())\n",
    "plt.figure(figsize=(10,5))\n",
    "train['MRG'].value_counts(normalize=True).plot(kind='bar')\n",
    "plt.ylabel('counts')\n",
    "plt.xlabel('MRG')"
   ]
  },
  {
   "cell_type": "code",
   "execution_count": 17,
   "metadata": {
    "colab": {},
    "colab_type": "code",
    "id": "OsNSGQxpEHpt"
   },
   "outputs": [
    {
     "name": "stdout",
     "output_type": "stream",
     "text": [
      "All-net 500F=2000F;5d                   317802\n",
      "On net 200F=Unlimited _call24H          152295\n",
      "Data:490F=1GB,7d                        115180\n",
      "Data: 100 F=40MB,24H                     84649\n",
      "Mixt 250F=Unlimited_call24H              67512\n",
      "                                         ...  \n",
      "GPRS_5Go_7D_PORTAL                           1\n",
      "MegaChrono_3000F=12500F TOUS RESEAUX         1\n",
      "YMGX on-net 100=700F, 24H                    1\n",
      "Data_Mifi_10Go                               1\n",
      "pilot_offer4                                 1\n",
      "Name: TOP_PACK, Length: 140, dtype: int64\n"
     ]
    },
    {
     "data": {
      "text/plain": [
       "Text(0.5, 0, 'TOP_PACK')"
      ]
     },
     "execution_count": 17,
     "metadata": {},
     "output_type": "execute_result"
    },
    {
     "data": {
      "image/png": "[encoded data removed]",
      "text/plain": [
       "<Figure size 720x360 with 1 Axes>"
      ]
     },
     "metadata": {
      "needs_background": "light"
     },
     "output_type": "display_data"
    }
   ],
   "source": [
    "#Viewing the number of levels in TOP_PACK\n",
    "print(train['TOP_PACK'].value_counts())\n",
    "plt.figure(figsize=(10,5))\n",
    "train['TOP_PACK'].value_counts(normalize=True).plot(kind='bar')\n",
    "plt.ylabel('counts')\n",
    "plt.xlabel('TOP_PACK')"
   ]
  },
  {
   "cell_type": "code",
   "execution_count": 18,
   "metadata": {
    "colab": {},
    "colab_type": "code",
    "id": "bTAbRNm6EHpz"
   },
   "outputs": [
    {
     "name": "stdout",
     "output_type": "stream",
     "text": [
      "0    1750062\n",
      "1     403986\n",
      "Name: CHURN, dtype: int64\n"
     ]
    },
    {
     "data": {
      "text/plain": [
       "Text(0.5, 0, 'Churn')"
      ]
     },
     "execution_count": 18,
     "metadata": {},
     "output_type": "execute_result"
    },
    {
     "data": {
      "image/png": "[encoded data removed]",
      "text/plain": [
       "<Figure size 720x360 with 1 Axes>"
      ]
     },
     "metadata": {
      "needs_background": "light"
     },
     "output_type": "display_data"
    }
   ],
   "source": [
    "#Check if the predictor class is balanced \n",
    "print(train['CHURN'].value_counts())\n",
    "plt.figure(figsize=(10,5))\n",
    "train['CHURN'].value_counts(normalize=True).plot(kind='bar')\n",
    "plt.ylabel('counts')\n",
    "plt.xlabel('Churn')"
   ]
  },
  {
   "cell_type": "code",
   "execution_count": 19,
   "metadata": {
    "colab": {},
    "colab_type": "code",
    "id": "Aca2u4rvEHp7"
   },
   "outputs": [
    {
     "data": {
      "text/html": [
       "<div>\n",
       "<style scoped>\n",
       "    .dataframe tbody tr th:only-of-type {\n",
       "        vertical-align: middle;\n",
       "    }\n",
       "\n",
       "    .dataframe tbody tr th {\n",
       "        vertical-align: top;\n",
       "    }\n",
       "\n",
       "    .dataframe thead th {\n",
       "        text-align: right;\n",
       "    }\n",
       "</style>\n",
       "<table border=\"1\" class=\"dataframe\">\n",
       "  <thead>\n",
       "    <tr style=\"text-align: right;\">\n",
       "      <th></th>\n",
       "      <th>count</th>\n",
       "      <th>mean</th>\n",
       "      <th>std</th>\n",
       "      <th>min</th>\n",
       "      <th>25%</th>\n",
       "      <th>50%</th>\n",
       "      <th>75%</th>\n",
       "      <th>max</th>\n",
       "    </tr>\n",
       "  </thead>\n",
       "  <tbody>\n",
       "    <tr>\n",
       "      <th>MONTANT</th>\n",
       "      <td>1397309.0</td>\n",
       "      <td>5532.116998</td>\n",
       "      <td>7111.339421</td>\n",
       "      <td>10.0</td>\n",
       "      <td>1000.0</td>\n",
       "      <td>3000.0</td>\n",
       "      <td>7350.0</td>\n",
       "      <td>470000.0</td>\n",
       "    </tr>\n",
       "    <tr>\n",
       "      <th>FREQUENCE_RECH</th>\n",
       "      <td>1397309.0</td>\n",
       "      <td>11.529120</td>\n",
       "      <td>13.274070</td>\n",
       "      <td>1.0</td>\n",
       "      <td>2.0</td>\n",
       "      <td>7.0</td>\n",
       "      <td>16.0</td>\n",
       "      <td>133.0</td>\n",
       "    </tr>\n",
       "    <tr>\n",
       "      <th>REVENUE</th>\n",
       "      <td>1428000.0</td>\n",
       "      <td>5510.810334</td>\n",
       "      <td>7187.112880</td>\n",
       "      <td>1.0</td>\n",
       "      <td>1000.0</td>\n",
       "      <td>3000.0</td>\n",
       "      <td>7368.0</td>\n",
       "      <td>532177.0</td>\n",
       "    </tr>\n",
       "    <tr>\n",
       "      <th>ARPU_SEGMENT</th>\n",
       "      <td>1428000.0</td>\n",
       "      <td>1836.942894</td>\n",
       "      <td>2395.699954</td>\n",
       "      <td>0.0</td>\n",
       "      <td>333.0</td>\n",
       "      <td>1000.0</td>\n",
       "      <td>2456.0</td>\n",
       "      <td>177392.0</td>\n",
       "    </tr>\n",
       "    <tr>\n",
       "      <th>FREQUENCE</th>\n",
       "      <td>1428000.0</td>\n",
       "      <td>13.978141</td>\n",
       "      <td>14.694035</td>\n",
       "      <td>1.0</td>\n",
       "      <td>3.0</td>\n",
       "      <td>9.0</td>\n",
       "      <td>20.0</td>\n",
       "      <td>91.0</td>\n",
       "    </tr>\n",
       "    <tr>\n",
       "      <th>DATA_VOLUME</th>\n",
       "      <td>1093615.0</td>\n",
       "      <td>3366.450167</td>\n",
       "      <td>13304.463667</td>\n",
       "      <td>0.0</td>\n",
       "      <td>0.0</td>\n",
       "      <td>257.0</td>\n",
       "      <td>2895.0</td>\n",
       "      <td>1823866.0</td>\n",
       "    </tr>\n",
       "    <tr>\n",
       "      <th>ON_NET</th>\n",
       "      <td>1367373.0</td>\n",
       "      <td>277.689140</td>\n",
       "      <td>872.688909</td>\n",
       "      <td>0.0</td>\n",
       "      <td>5.0</td>\n",
       "      <td>27.0</td>\n",
       "      <td>156.0</td>\n",
       "      <td>50809.0</td>\n",
       "    </tr>\n",
       "    <tr>\n",
       "      <th>ORANGE</th>\n",
       "      <td>1258800.0</td>\n",
       "      <td>95.418711</td>\n",
       "      <td>204.987266</td>\n",
       "      <td>0.0</td>\n",
       "      <td>7.0</td>\n",
       "      <td>29.0</td>\n",
       "      <td>99.0</td>\n",
       "      <td>21323.0</td>\n",
       "    </tr>\n",
       "    <tr>\n",
       "      <th>TIGO</th>\n",
       "      <td>864032.0</td>\n",
       "      <td>23.109253</td>\n",
       "      <td>63.578086</td>\n",
       "      <td>0.0</td>\n",
       "      <td>2.0</td>\n",
       "      <td>6.0</td>\n",
       "      <td>20.0</td>\n",
       "      <td>4174.0</td>\n",
       "    </tr>\n",
       "    <tr>\n",
       "      <th>ZONE1</th>\n",
       "      <td>169721.0</td>\n",
       "      <td>8.170132</td>\n",
       "      <td>41.169511</td>\n",
       "      <td>0.0</td>\n",
       "      <td>0.0</td>\n",
       "      <td>1.0</td>\n",
       "      <td>3.0</td>\n",
       "      <td>4792.0</td>\n",
       "    </tr>\n",
       "    <tr>\n",
       "      <th>ZONE2</th>\n",
       "      <td>136824.0</td>\n",
       "      <td>7.553309</td>\n",
       "      <td>33.487234</td>\n",
       "      <td>0.0</td>\n",
       "      <td>0.0</td>\n",
       "      <td>2.0</td>\n",
       "      <td>5.0</td>\n",
       "      <td>3697.0</td>\n",
       "    </tr>\n",
       "    <tr>\n",
       "      <th>REGULARITY</th>\n",
       "      <td>2154048.0</td>\n",
       "      <td>28.042505</td>\n",
       "      <td>22.286857</td>\n",
       "      <td>1.0</td>\n",
       "      <td>6.0</td>\n",
       "      <td>24.0</td>\n",
       "      <td>51.0</td>\n",
       "      <td>62.0</td>\n",
       "    </tr>\n",
       "    <tr>\n",
       "      <th>FREQ_TOP_PACK</th>\n",
       "      <td>1251454.0</td>\n",
       "      <td>9.272461</td>\n",
       "      <td>12.280443</td>\n",
       "      <td>1.0</td>\n",
       "      <td>2.0</td>\n",
       "      <td>5.0</td>\n",
       "      <td>12.0</td>\n",
       "      <td>713.0</td>\n",
       "    </tr>\n",
       "    <tr>\n",
       "      <th>CHURN</th>\n",
       "      <td>2154048.0</td>\n",
       "      <td>0.187547</td>\n",
       "      <td>0.390350</td>\n",
       "      <td>0.0</td>\n",
       "      <td>0.0</td>\n",
       "      <td>0.0</td>\n",
       "      <td>0.0</td>\n",
       "      <td>1.0</td>\n",
       "    </tr>\n",
       "  </tbody>\n",
       "</table>\n",
       "</div>"
      ],
      "text/plain": [
       "                    count         mean           std   min     25%     50%  \\\n",
       "MONTANT         1397309.0  5532.116998   7111.339421  10.0  1000.0  3000.0   \n",
       "FREQUENCE_RECH  1397309.0    11.529120     13.274070   1.0     2.0     7.0   \n",
       "REVENUE         1428000.0  5510.810334   7187.112880   1.0  1000.0  3000.0   \n",
       "ARPU_SEGMENT    1428000.0  1836.942894   2395.699954   0.0   333.0  1000.0   \n",
       "FREQUENCE       1428000.0    13.978141     14.694035   1.0     3.0     9.0   \n",
       "DATA_VOLUME     1093615.0  3366.450167  13304.463667   0.0     0.0   257.0   \n",
       "ON_NET          1367373.0   277.689140    872.688909   0.0     5.0    27.0   \n",
       "ORANGE          1258800.0    95.418711    204.987266   0.0     7.0    29.0   \n",
       "TIGO             864032.0    23.109253     63.578086   0.0     2.0     6.0   \n",
       "ZONE1            169721.0     8.170132     41.169511   0.0     0.0     1.0   \n",
       "ZONE2            136824.0     7.553309     33.487234   0.0     0.0     2.0   \n",
       "REGULARITY      2154048.0    28.042505     22.286857   1.0     6.0    24.0   \n",
       "FREQ_TOP_PACK   1251454.0     9.272461     12.280443   1.0     2.0     5.0   \n",
       "CHURN           2154048.0     0.187547      0.390350   0.0     0.0     0.0   \n",
       "\n",
       "                   75%        max  \n",
       "MONTANT         7350.0   470000.0  \n",
       "FREQUENCE_RECH    16.0      133.0  \n",
       "REVENUE         7368.0   532177.0  \n",
       "ARPU_SEGMENT    2456.0   177392.0  \n",
       "FREQUENCE         20.0       91.0  \n",
       "DATA_VOLUME     2895.0  1823866.0  \n",
       "ON_NET           156.0    50809.0  \n",
       "ORANGE            99.0    21323.0  \n",
       "TIGO              20.0     4174.0  \n",
       "ZONE1              3.0     4792.0  \n",
       "ZONE2              5.0     3697.0  \n",
       "REGULARITY        51.0       62.0  \n",
       "FREQ_TOP_PACK     12.0      713.0  \n",
       "CHURN              0.0        1.0  "
      ]
     },
     "execution_count": 19,
     "metadata": {},
     "output_type": "execute_result"
    }
   ],
   "source": [
    "#Check summary of numerical fields\n",
    "train.select_dtypes(include=['int64', 'float64']).describe().T"
   ]
  },
  {
   "cell_type": "code",
   "execution_count": 20,
   "metadata": {
    "colab": {},
    "colab_type": "code",
    "id": "jHOuWJM_EHqA"
   },
   "outputs": [
    {
     "data": {
      "text/plain": [
       "user_id                 0\n",
       "REGION             849299\n",
       "TENURE                  0\n",
       "MONTANT            756739\n",
       "FREQUENCE_RECH     756739\n",
       "REVENUE            726048\n",
       "ARPU_SEGMENT       726048\n",
       "FREQUENCE          726048\n",
       "DATA_VOLUME       1060433\n",
       "ON_NET             786675\n",
       "ORANGE             895248\n",
       "TIGO              1290016\n",
       "ZONE1             1984327\n",
       "ZONE2             2017224\n",
       "MRG                     0\n",
       "REGULARITY              0\n",
       "TOP_PACK           902594\n",
       "FREQ_TOP_PACK      902594\n",
       "CHURN                   0\n",
       "dtype: int64"
      ]
     },
     "execution_count": 20,
     "metadata": {},
     "output_type": "execute_result"
    }
   ],
   "source": [
    "#Check for missing values in training data\n",
    "train.isnull().sum()"
   ]
  },
  {
   "cell_type": "code",
   "execution_count": 21,
   "metadata": {
    "colab": {},
    "colab_type": "code",
    "id": "YOGkeAviEHqE"
   },
   "outputs": [
    {
     "data": {
      "text/plain": [
       "user_id                0\n",
       "REGION            149728\n",
       "TENURE                 0\n",
       "MONTANT           133055\n",
       "FREQUENCE_RECH    133055\n",
       "REVENUE           127373\n",
       "ARPU_SEGMENT      127373\n",
       "FREQUENCE         127373\n",
       "DATA_VOLUME       187040\n",
       "ON_NET            138514\n",
       "ORANGE            157230\n",
       "TIGO              227001\n",
       "ZONE1             350266\n",
       "ZONE2             356051\n",
       "MRG                    0\n",
       "REGULARITY             0\n",
       "TOP_PACK          158779\n",
       "FREQ_TOP_PACK     158779\n",
       "dtype: int64"
      ]
     },
     "execution_count": 21,
     "metadata": {},
     "output_type": "execute_result"
    }
   ],
   "source": [
    "#Check for missing values in test data\n",
    "test.isnull().sum()"
   ]
  },
  {
   "cell_type": "markdown",
   "metadata": {
    "colab_type": "text",
    "id": "kMWZBQ87Hahn"
   },
   "source": [
    "#### We will drop REGION, TOP_PACK, and MRG\n",
    "#### We will also replace the missing values for the numerical columns with their means (averages)"
   ]
  },
  {
   "cell_type": "code",
   "execution_count": 22,
   "metadata": {
    "colab": {},
    "colab_type": "code",
    "id": "PrU062w6EHqN"
   },
   "outputs": [],
   "source": [
    "# Dropping the REGION, MRG and TOP_PACK columns in the train data file\n",
    "train.drop(columns=['REGION', 'MRG', 'TOP_PACK'], inplace=True) "
   ]
  },
  {
   "cell_type": "code",
   "execution_count": 23,
   "metadata": {
    "colab": {},
    "colab_type": "code",
    "id": "wDs1NbF-EHqR"
   },
   "outputs": [
    {
     "data": {
      "text/html": [
       "<div>\n",
       "<style scoped>\n",
       "    .dataframe tbody tr th:only-of-type {\n",
       "        vertical-align: middle;\n",
       "    }\n",
       "\n",
       "    .dataframe tbody tr th {\n",
       "        vertical-align: top;\n",
       "    }\n",
       "\n",
       "    .dataframe thead th {\n",
       "        text-align: right;\n",
       "    }\n",
       "</style>\n",
       "<table border=\"1\" class=\"dataframe\">\n",
       "  <thead>\n",
       "    <tr style=\"text-align: right;\">\n",
       "      <th></th>\n",
       "      <th>user_id</th>\n",
       "      <th>TENURE</th>\n",
       "      <th>MONTANT</th>\n",
       "      <th>FREQUENCE_RECH</th>\n",
       "      <th>REVENUE</th>\n",
       "      <th>ARPU_SEGMENT</th>\n",
       "      <th>FREQUENCE</th>\n",
       "      <th>DATA_VOLUME</th>\n",
       "      <th>ON_NET</th>\n",
       "      <th>ORANGE</th>\n",
       "      <th>TIGO</th>\n",
       "      <th>ZONE1</th>\n",
       "      <th>ZONE2</th>\n",
       "      <th>REGULARITY</th>\n",
       "      <th>FREQ_TOP_PACK</th>\n",
       "      <th>CHURN</th>\n",
       "    </tr>\n",
       "  </thead>\n",
       "  <tbody>\n",
       "    <tr>\n",
       "      <th>0</th>\n",
       "      <td>00000bfd7d50f01092811bc0c8d7b0d6fe7c3596</td>\n",
       "      <td>K &gt; 24 month</td>\n",
       "      <td>4250.0</td>\n",
       "      <td>15.0</td>\n",
       "      <td>4251.0</td>\n",
       "      <td>1417.0</td>\n",
       "      <td>17.0</td>\n",
       "      <td>4.0</td>\n",
       "      <td>388.0</td>\n",
       "      <td>46.0</td>\n",
       "      <td>1.0</td>\n",
       "      <td>1.0</td>\n",
       "      <td>2.0</td>\n",
       "      <td>54</td>\n",
       "      <td>8.0</td>\n",
       "      <td>0</td>\n",
       "    </tr>\n",
       "    <tr>\n",
       "      <th>1</th>\n",
       "      <td>00000cb4a5d760de88fecb38e2f71b7bec52e834</td>\n",
       "      <td>I 18-21 month</td>\n",
       "      <td>NaN</td>\n",
       "      <td>NaN</td>\n",
       "      <td>NaN</td>\n",
       "      <td>NaN</td>\n",
       "      <td>NaN</td>\n",
       "      <td>NaN</td>\n",
       "      <td>NaN</td>\n",
       "      <td>NaN</td>\n",
       "      <td>NaN</td>\n",
       "      <td>NaN</td>\n",
       "      <td>NaN</td>\n",
       "      <td>4</td>\n",
       "      <td>NaN</td>\n",
       "      <td>1</td>\n",
       "    </tr>\n",
       "    <tr>\n",
       "      <th>2</th>\n",
       "      <td>00001654a9d9f96303d9969d0a4a851714a4bb57</td>\n",
       "      <td>K &gt; 24 month</td>\n",
       "      <td>3600.0</td>\n",
       "      <td>2.0</td>\n",
       "      <td>1020.0</td>\n",
       "      <td>340.0</td>\n",
       "      <td>2.0</td>\n",
       "      <td>NaN</td>\n",
       "      <td>90.0</td>\n",
       "      <td>46.0</td>\n",
       "      <td>7.0</td>\n",
       "      <td>NaN</td>\n",
       "      <td>NaN</td>\n",
       "      <td>17</td>\n",
       "      <td>1.0</td>\n",
       "      <td>0</td>\n",
       "    </tr>\n",
       "    <tr>\n",
       "      <th>3</th>\n",
       "      <td>00001dd6fa45f7ba044bd5d84937be464ce78ac2</td>\n",
       "      <td>K &gt; 24 month</td>\n",
       "      <td>13500.0</td>\n",
       "      <td>15.0</td>\n",
       "      <td>13502.0</td>\n",
       "      <td>4501.0</td>\n",
       "      <td>18.0</td>\n",
       "      <td>43804.0</td>\n",
       "      <td>41.0</td>\n",
       "      <td>102.0</td>\n",
       "      <td>2.0</td>\n",
       "      <td>NaN</td>\n",
       "      <td>NaN</td>\n",
       "      <td>62</td>\n",
       "      <td>11.0</td>\n",
       "      <td>0</td>\n",
       "    </tr>\n",
       "    <tr>\n",
       "      <th>4</th>\n",
       "      <td>000028d9e13a595abe061f9b58f3d76ab907850f</td>\n",
       "      <td>K &gt; 24 month</td>\n",
       "      <td>1000.0</td>\n",
       "      <td>1.0</td>\n",
       "      <td>985.0</td>\n",
       "      <td>328.0</td>\n",
       "      <td>1.0</td>\n",
       "      <td>NaN</td>\n",
       "      <td>39.0</td>\n",
       "      <td>24.0</td>\n",
       "      <td>NaN</td>\n",
       "      <td>NaN</td>\n",
       "      <td>NaN</td>\n",
       "      <td>11</td>\n",
       "      <td>2.0</td>\n",
       "      <td>0</td>\n",
       "    </tr>\n",
       "  </tbody>\n",
       "</table>\n",
       "</div>"
      ],
      "text/plain": [
       "                                    user_id         TENURE  MONTANT  \\\n",
       "0  00000bfd7d50f01092811bc0c8d7b0d6fe7c3596   K > 24 month   4250.0   \n",
       "1  00000cb4a5d760de88fecb38e2f71b7bec52e834  I 18-21 month      NaN   \n",
       "2  00001654a9d9f96303d9969d0a4a851714a4bb57   K > 24 month   3600.0   \n",
       "3  00001dd6fa45f7ba044bd5d84937be464ce78ac2   K > 24 month  13500.0   \n",
       "4  000028d9e13a595abe061f9b58f3d76ab907850f   K > 24 month   1000.0   \n",
       "\n",
       "   FREQUENCE_RECH  REVENUE  ARPU_SEGMENT  FREQUENCE  DATA_VOLUME  ON_NET  \\\n",
       "0            15.0   4251.0        1417.0       17.0          4.0   388.0   \n",
       "1             NaN      NaN           NaN        NaN          NaN     NaN   \n",
       "2             2.0   1020.0         340.0        2.0          NaN    90.0   \n",
       "3            15.0  13502.0        4501.0       18.0      43804.0    41.0   \n",
       "4             1.0    985.0         328.0        1.0          NaN    39.0   \n",
       "\n",
       "   ORANGE  TIGO  ZONE1  ZONE2  REGULARITY  FREQ_TOP_PACK  CHURN  \n",
       "0    46.0   1.0    1.0    2.0          54            8.0      0  \n",
       "1     NaN   NaN    NaN    NaN           4            NaN      1  \n",
       "2    46.0   7.0    NaN    NaN          17            1.0      0  \n",
       "3   102.0   2.0    NaN    NaN          62           11.0      0  \n",
       "4    24.0   NaN    NaN    NaN          11            2.0      0  "
      ]
     },
     "execution_count": 23,
     "metadata": {},
     "output_type": "execute_result"
    }
   ],
   "source": [
    "#Viewing the head of the updated train data file\n",
    "train.head()"
   ]
  },
  {
   "cell_type": "code",
   "execution_count": 24,
   "metadata": {
    "colab": {},
    "colab_type": "code",
    "id": "DYVXokooMU9c"
   },
   "outputs": [
    {
     "name": "stdout",
     "output_type": "stream",
     "text": [
      "<class 'pandas.core.frame.DataFrame'>\n",
      "RangeIndex: 2154048 entries, 0 to 2154047\n",
      "Data columns (total 16 columns):\n",
      " #   Column          Dtype  \n",
      "---  ------          -----  \n",
      " 0   user_id         object \n",
      " 1   TENURE          object \n",
      " 2   MONTANT         float64\n",
      " 3   FREQUENCE_RECH  float64\n",
      " 4   REVENUE         float64\n",
      " 5   ARPU_SEGMENT    float64\n",
      " 6   FREQUENCE       float64\n",
      " 7   DATA_VOLUME     float64\n",
      " 8   ON_NET          float64\n",
      " 9   ORANGE          float64\n",
      " 10  TIGO            float64\n",
      " 11  ZONE1           float64\n",
      " 12  ZONE2           float64\n",
      " 13  REGULARITY      int64  \n",
      " 14  FREQ_TOP_PACK   float64\n",
      " 15  CHURN           int64  \n",
      "dtypes: float64(12), int64(2), object(2)\n",
      "memory usage: 262.9+ MB\n"
     ]
    }
   ],
   "source": [
    "# Viewing information on the data file to ensure the columns have been deleted\n",
    "train.info()"
   ]
  },
  {
   "cell_type": "code",
   "execution_count": 25,
   "metadata": {
    "colab": {},
    "colab_type": "code",
    "id": "CziyDtVOEHqW"
   },
   "outputs": [],
   "source": [
    "# Dropping the REGION, MRG and TOP_PACK columns in the test data file\n",
    "\n",
    "test.drop(columns=['REGION', 'MRG', 'TOP_PACK'], inplace=True)"
   ]
  },
  {
   "cell_type": "code",
   "execution_count": 26,
   "metadata": {
    "colab": {},
    "colab_type": "code",
    "id": "tuC96_fdEHqe"
   },
   "outputs": [
    {
     "data": {
      "text/html": [
       "<div>\n",
       "<style scoped>\n",
       "    .dataframe tbody tr th:only-of-type {\n",
       "        vertical-align: middle;\n",
       "    }\n",
       "\n",
       "    .dataframe tbody tr th {\n",
       "        vertical-align: top;\n",
       "    }\n",
       "\n",
       "    .dataframe thead th {\n",
       "        text-align: right;\n",
       "    }\n",
       "</style>\n",
       "<table border=\"1\" class=\"dataframe\">\n",
       "  <thead>\n",
       "    <tr style=\"text-align: right;\">\n",
       "      <th></th>\n",
       "      <th>user_id</th>\n",
       "      <th>TENURE</th>\n",
       "      <th>MONTANT</th>\n",
       "      <th>FREQUENCE_RECH</th>\n",
       "      <th>REVENUE</th>\n",
       "      <th>ARPU_SEGMENT</th>\n",
       "      <th>FREQUENCE</th>\n",
       "      <th>DATA_VOLUME</th>\n",
       "      <th>ON_NET</th>\n",
       "      <th>ORANGE</th>\n",
       "      <th>TIGO</th>\n",
       "      <th>ZONE1</th>\n",
       "      <th>ZONE2</th>\n",
       "      <th>REGULARITY</th>\n",
       "      <th>FREQ_TOP_PACK</th>\n",
       "    </tr>\n",
       "  </thead>\n",
       "  <tbody>\n",
       "    <tr>\n",
       "      <th>0</th>\n",
       "      <td>00001dbe00e56fc4b1c1b65dda63de2a5ece55f9</td>\n",
       "      <td>K &gt; 24 month</td>\n",
       "      <td>5000.0</td>\n",
       "      <td>5.0</td>\n",
       "      <td>5000.0</td>\n",
       "      <td>1667.0</td>\n",
       "      <td>5.0</td>\n",
       "      <td>NaN</td>\n",
       "      <td>378.0</td>\n",
       "      <td>11.0</td>\n",
       "      <td>5.0</td>\n",
       "      <td>NaN</td>\n",
       "      <td>NaN</td>\n",
       "      <td>42</td>\n",
       "      <td>5.0</td>\n",
       "    </tr>\n",
       "    <tr>\n",
       "      <th>1</th>\n",
       "      <td>000055d41c8a62052dd426592e8a4a3342bf565d</td>\n",
       "      <td>I 18-21 month</td>\n",
       "      <td>300.0</td>\n",
       "      <td>2.0</td>\n",
       "      <td>326.0</td>\n",
       "      <td>109.0</td>\n",
       "      <td>3.0</td>\n",
       "      <td>397.0</td>\n",
       "      <td>NaN</td>\n",
       "      <td>0.0</td>\n",
       "      <td>NaN</td>\n",
       "      <td>NaN</td>\n",
       "      <td>NaN</td>\n",
       "      <td>41</td>\n",
       "      <td>1.0</td>\n",
       "    </tr>\n",
       "    <tr>\n",
       "      <th>2</th>\n",
       "      <td>000081dd3245e6869a4a9c574c7050e7bb84c2c8</td>\n",
       "      <td>K &gt; 24 month</td>\n",
       "      <td>3300.0</td>\n",
       "      <td>25.0</td>\n",
       "      <td>3400.0</td>\n",
       "      <td>1133.0</td>\n",
       "      <td>26.0</td>\n",
       "      <td>7150.0</td>\n",
       "      <td>0.0</td>\n",
       "      <td>2.0</td>\n",
       "      <td>5.0</td>\n",
       "      <td>NaN</td>\n",
       "      <td>NaN</td>\n",
       "      <td>57</td>\n",
       "      <td>22.0</td>\n",
       "    </tr>\n",
       "    <tr>\n",
       "      <th>3</th>\n",
       "      <td>0000b76d2145d9445d9ff6b65c9ebc4196c89337</td>\n",
       "      <td>K &gt; 24 month</td>\n",
       "      <td>NaN</td>\n",
       "      <td>NaN</td>\n",
       "      <td>NaN</td>\n",
       "      <td>NaN</td>\n",
       "      <td>NaN</td>\n",
       "      <td>NaN</td>\n",
       "      <td>NaN</td>\n",
       "      <td>NaN</td>\n",
       "      <td>NaN</td>\n",
       "      <td>NaN</td>\n",
       "      <td>NaN</td>\n",
       "      <td>9</td>\n",
       "      <td>NaN</td>\n",
       "    </tr>\n",
       "    <tr>\n",
       "      <th>4</th>\n",
       "      <td>0000bae5480628cf8fe51ad84bcb39772fc79224</td>\n",
       "      <td>K &gt; 24 month</td>\n",
       "      <td>NaN</td>\n",
       "      <td>NaN</td>\n",
       "      <td>NaN</td>\n",
       "      <td>NaN</td>\n",
       "      <td>NaN</td>\n",
       "      <td>NaN</td>\n",
       "      <td>NaN</td>\n",
       "      <td>NaN</td>\n",
       "      <td>NaN</td>\n",
       "      <td>NaN</td>\n",
       "      <td>NaN</td>\n",
       "      <td>10</td>\n",
       "      <td>NaN</td>\n",
       "    </tr>\n",
       "  </tbody>\n",
       "</table>\n",
       "</div>"
      ],
      "text/plain": [
       "                                    user_id         TENURE  MONTANT  \\\n",
       "0  00001dbe00e56fc4b1c1b65dda63de2a5ece55f9   K > 24 month   5000.0   \n",
       "1  000055d41c8a62052dd426592e8a4a3342bf565d  I 18-21 month    300.0   \n",
       "2  000081dd3245e6869a4a9c574c7050e7bb84c2c8   K > 24 month   3300.0   \n",
       "3  0000b76d2145d9445d9ff6b65c9ebc4196c89337   K > 24 month      NaN   \n",
       "4  0000bae5480628cf8fe51ad84bcb39772fc79224   K > 24 month      NaN   \n",
       "\n",
       "   FREQUENCE_RECH  REVENUE  ARPU_SEGMENT  FREQUENCE  DATA_VOLUME  ON_NET  \\\n",
       "0             5.0   5000.0        1667.0        5.0          NaN   378.0   \n",
       "1             2.0    326.0         109.0        3.0        397.0     NaN   \n",
       "2            25.0   3400.0        1133.0       26.0       7150.0     0.0   \n",
       "3             NaN      NaN           NaN        NaN          NaN     NaN   \n",
       "4             NaN      NaN           NaN        NaN          NaN     NaN   \n",
       "\n",
       "   ORANGE  TIGO  ZONE1  ZONE2  REGULARITY  FREQ_TOP_PACK  \n",
       "0    11.0   5.0    NaN    NaN          42            5.0  \n",
       "1     0.0   NaN    NaN    NaN          41            1.0  \n",
       "2     2.0   5.0    NaN    NaN          57           22.0  \n",
       "3     NaN   NaN    NaN    NaN           9            NaN  \n",
       "4     NaN   NaN    NaN    NaN          10            NaN  "
      ]
     },
     "execution_count": 26,
     "metadata": {},
     "output_type": "execute_result"
    }
   ],
   "source": [
    "# Viewing the head of the test data file\n",
    "\n",
    "test.head()"
   ]
  },
  {
   "cell_type": "code",
   "execution_count": 27,
   "metadata": {
    "colab": {},
    "colab_type": "code",
    "id": "m7vrDpL8EHqk"
   },
   "outputs": [],
   "source": [
    "#Fill NAs for train data"
   ]
  },
  {
   "cell_type": "code",
   "execution_count": 28,
   "metadata": {
    "colab": {},
    "colab_type": "code",
    "id": "F6S-IZ_5EHqp"
   },
   "outputs": [],
   "source": [
    "train['MONTANT'].fillna((train['MONTANT'].mean()), inplace=True)\n",
    "train['FREQUENCE_RECH'].fillna((train['FREQUENCE_RECH'].mean()), inplace=True)\n",
    "train['REVENUE'].fillna((train['REVENUE'].mean()), inplace=True)\n",
    "train['ARPU_SEGMENT'].fillna((train['ARPU_SEGMENT'].mean()), inplace=True)\n",
    "train['FREQUENCE'].fillna((train['FREQUENCE'].mean()), inplace=True)\n",
    "train['DATA_VOLUME'].fillna((train['DATA_VOLUME'].mean()), inplace=True)\n",
    "train['ON_NET'].fillna((train['ON_NET'].mean()), inplace=True)\n",
    "train['ORANGE'].fillna((train['ORANGE'].mean()), inplace=True)\n",
    "train['TIGO'].fillna((train['TIGO'].mean()), inplace=True)\n",
    "train['ZONE1'].fillna((train['ZONE1'].mean()), inplace=True)\n",
    "train['ZONE2'].fillna((train['ZONE2'].mean()), inplace=True)\n",
    "train['FREQ_TOP_PACK'].fillna((train['FREQ_TOP_PACK'].mean()), inplace=True)"
   ]
  },
  {
   "cell_type": "code",
   "execution_count": 29,
   "metadata": {
    "colab": {},
    "colab_type": "code",
    "id": "KWh3fetTrQWC"
   },
   "outputs": [
    {
     "data": {
      "text/plain": [
       "<matplotlib.axes._subplots.AxesSubplot at 0x1e899909df0>"
      ]
     },
     "execution_count": 29,
     "metadata": {},
     "output_type": "execute_result"
    },
    {
     "data": {
      "image/png": "[encoded data removed]",
      "text/plain": [
       "<Figure size 1296x432 with 1 Axes>"
      ]
     },
     "metadata": {
      "needs_background": "light"
     },
     "output_type": "display_data"
    }
   ],
   "source": [
    "#We plot the correlation between the features and the target variable (CHURN) to to help remove some features not relevant to the model(s)\n",
    "\n",
    "train.corr()['CHURN'].sort_values().plot(kind='bar', figsize=(18, 6)) "
   ]
  },
  {
   "cell_type": "markdown",
   "metadata": {
    "colab_type": "text",
    "id": "OXWIjlCFJUCp"
   },
   "source": [
    "#### From the correlation graph above, it can be observed that ZONE1 and ZONE2 have no correlation with the target variable (CHURN), hence they are removed."
   ]
  },
  {
   "cell_type": "code",
   "execution_count": 30,
   "metadata": {
    "colab": {},
    "colab_type": "code",
    "id": "qGye6TiA4q5P"
   },
   "outputs": [],
   "source": [
    "# Remove the ZONE1 and ZONE2 variables\n",
    "\n",
    "train = train.drop(['ZONE1', 'ZONE2'], axis = 1)"
   ]
  },
  {
   "cell_type": "code",
   "execution_count": 31,
   "metadata": {
    "colab": {},
    "colab_type": "code",
    "id": "8oogWUNnEHqs"
   },
   "outputs": [
    {
     "data": {
      "text/html": [
       "<div>\n",
       "<style scoped>\n",
       "    .dataframe tbody tr th:only-of-type {\n",
       "        vertical-align: middle;\n",
       "    }\n",
       "\n",
       "    .dataframe tbody tr th {\n",
       "        vertical-align: top;\n",
       "    }\n",
       "\n",
       "    .dataframe thead th {\n",
       "        text-align: right;\n",
       "    }\n",
       "</style>\n",
       "<table border=\"1\" class=\"dataframe\">\n",
       "  <thead>\n",
       "    <tr style=\"text-align: right;\">\n",
       "      <th></th>\n",
       "      <th>user_id</th>\n",
       "      <th>TENURE</th>\n",
       "      <th>MONTANT</th>\n",
       "      <th>FREQUENCE_RECH</th>\n",
       "      <th>REVENUE</th>\n",
       "      <th>ARPU_SEGMENT</th>\n",
       "      <th>FREQUENCE</th>\n",
       "      <th>DATA_VOLUME</th>\n",
       "      <th>ON_NET</th>\n",
       "      <th>ORANGE</th>\n",
       "      <th>TIGO</th>\n",
       "      <th>REGULARITY</th>\n",
       "      <th>FREQ_TOP_PACK</th>\n",
       "      <th>CHURN</th>\n",
       "    </tr>\n",
       "  </thead>\n",
       "  <tbody>\n",
       "    <tr>\n",
       "      <th>0</th>\n",
       "      <td>00000bfd7d50f01092811bc0c8d7b0d6fe7c3596</td>\n",
       "      <td>K &gt; 24 month</td>\n",
       "      <td>4250.000000</td>\n",
       "      <td>15.00000</td>\n",
       "      <td>4251.000000</td>\n",
       "      <td>1417.000000</td>\n",
       "      <td>17.000000</td>\n",
       "      <td>4.000000</td>\n",
       "      <td>388.00000</td>\n",
       "      <td>46.000000</td>\n",
       "      <td>1.000000</td>\n",
       "      <td>54</td>\n",
       "      <td>8.000000</td>\n",
       "      <td>0</td>\n",
       "    </tr>\n",
       "    <tr>\n",
       "      <th>1</th>\n",
       "      <td>00000cb4a5d760de88fecb38e2f71b7bec52e834</td>\n",
       "      <td>I 18-21 month</td>\n",
       "      <td>5532.116998</td>\n",
       "      <td>11.52912</td>\n",
       "      <td>5510.810334</td>\n",
       "      <td>1836.942894</td>\n",
       "      <td>13.978141</td>\n",
       "      <td>3366.450167</td>\n",
       "      <td>277.68914</td>\n",
       "      <td>95.418711</td>\n",
       "      <td>23.109253</td>\n",
       "      <td>4</td>\n",
       "      <td>9.272461</td>\n",
       "      <td>1</td>\n",
       "    </tr>\n",
       "    <tr>\n",
       "      <th>2</th>\n",
       "      <td>00001654a9d9f96303d9969d0a4a851714a4bb57</td>\n",
       "      <td>K &gt; 24 month</td>\n",
       "      <td>3600.000000</td>\n",
       "      <td>2.00000</td>\n",
       "      <td>1020.000000</td>\n",
       "      <td>340.000000</td>\n",
       "      <td>2.000000</td>\n",
       "      <td>3366.450167</td>\n",
       "      <td>90.00000</td>\n",
       "      <td>46.000000</td>\n",
       "      <td>7.000000</td>\n",
       "      <td>17</td>\n",
       "      <td>1.000000</td>\n",
       "      <td>0</td>\n",
       "    </tr>\n",
       "    <tr>\n",
       "      <th>3</th>\n",
       "      <td>00001dd6fa45f7ba044bd5d84937be464ce78ac2</td>\n",
       "      <td>K &gt; 24 month</td>\n",
       "      <td>13500.000000</td>\n",
       "      <td>15.00000</td>\n",
       "      <td>13502.000000</td>\n",
       "      <td>4501.000000</td>\n",
       "      <td>18.000000</td>\n",
       "      <td>43804.000000</td>\n",
       "      <td>41.00000</td>\n",
       "      <td>102.000000</td>\n",
       "      <td>2.000000</td>\n",
       "      <td>62</td>\n",
       "      <td>11.000000</td>\n",
       "      <td>0</td>\n",
       "    </tr>\n",
       "    <tr>\n",
       "      <th>4</th>\n",
       "      <td>000028d9e13a595abe061f9b58f3d76ab907850f</td>\n",
       "      <td>K &gt; 24 month</td>\n",
       "      <td>1000.000000</td>\n",
       "      <td>1.00000</td>\n",
       "      <td>985.000000</td>\n",
       "      <td>328.000000</td>\n",
       "      <td>1.000000</td>\n",
       "      <td>3366.450167</td>\n",
       "      <td>39.00000</td>\n",
       "      <td>24.000000</td>\n",
       "      <td>23.109253</td>\n",
       "      <td>11</td>\n",
       "      <td>2.000000</td>\n",
       "      <td>0</td>\n",
       "    </tr>\n",
       "  </tbody>\n",
       "</table>\n",
       "</div>"
      ],
      "text/plain": [
       "                                    user_id         TENURE       MONTANT  \\\n",
       "0  00000bfd7d50f01092811bc0c8d7b0d6fe7c3596   K > 24 month   4250.000000   \n",
       "1  00000cb4a5d760de88fecb38e2f71b7bec52e834  I 18-21 month   5532.116998   \n",
       "2  00001654a9d9f96303d9969d0a4a851714a4bb57   K > 24 month   3600.000000   \n",
       "3  00001dd6fa45f7ba044bd5d84937be464ce78ac2   K > 24 month  13500.000000   \n",
       "4  000028d9e13a595abe061f9b58f3d76ab907850f   K > 24 month   1000.000000   \n",
       "\n",
       "   FREQUENCE_RECH       REVENUE  ARPU_SEGMENT  FREQUENCE   DATA_VOLUME  \\\n",
       "0        15.00000   4251.000000   1417.000000  17.000000      4.000000   \n",
       "1        11.52912   5510.810334   1836.942894  13.978141   3366.450167   \n",
       "2         2.00000   1020.000000    340.000000   2.000000   3366.450167   \n",
       "3        15.00000  13502.000000   4501.000000  18.000000  43804.000000   \n",
       "4         1.00000    985.000000    328.000000   1.000000   3366.450167   \n",
       "\n",
       "      ON_NET      ORANGE       TIGO  REGULARITY  FREQ_TOP_PACK  CHURN  \n",
       "0  388.00000   46.000000   1.000000          54       8.000000      0  \n",
       "1  277.68914   95.418711  23.109253           4       9.272461      1  \n",
       "2   90.00000   46.000000   7.000000          17       1.000000      0  \n",
       "3   41.00000  102.000000   2.000000          62      11.000000      0  \n",
       "4   39.00000   24.000000  23.109253          11       2.000000      0  "
      ]
     },
     "execution_count": 31,
     "metadata": {},
     "output_type": "execute_result"
    }
   ],
   "source": [
    "#Viewing the head of the updated train data file\n",
    "\n",
    "train.head()"
   ]
  },
  {
   "cell_type": "code",
   "execution_count": 32,
   "metadata": {
    "colab": {},
    "colab_type": "code",
    "id": "lpNsmxysEHqw"
   },
   "outputs": [
    {
     "data": {
      "text/plain": [
       "user_id           0\n",
       "TENURE            0\n",
       "MONTANT           0\n",
       "FREQUENCE_RECH    0\n",
       "REVENUE           0\n",
       "ARPU_SEGMENT      0\n",
       "FREQUENCE         0\n",
       "DATA_VOLUME       0\n",
       "ON_NET            0\n",
       "ORANGE            0\n",
       "TIGO              0\n",
       "REGULARITY        0\n",
       "FREQ_TOP_PACK     0\n",
       "CHURN             0\n",
       "dtype: int64"
      ]
     },
     "execution_count": 32,
     "metadata": {},
     "output_type": "execute_result"
    }
   ],
   "source": [
    "train.isnull().sum()"
   ]
  },
  {
   "cell_type": "code",
   "execution_count": 33,
   "metadata": {
    "colab": {},
    "colab_type": "code",
    "id": "b1vP9UGTEHq0"
   },
   "outputs": [],
   "source": [
    "#Fill NAs for test data"
   ]
  },
  {
   "cell_type": "code",
   "execution_count": 34,
   "metadata": {
    "colab": {},
    "colab_type": "code",
    "id": "3W8U_H_OEHq5"
   },
   "outputs": [],
   "source": [
    "test['MONTANT'].fillna((test['MONTANT'].mean()), inplace=True)\n",
    "test['FREQUENCE_RECH'].fillna((test['FREQUENCE_RECH'].mean()), inplace=True)\n",
    "test['REVENUE'].fillna((test['REVENUE'].mean()), inplace=True)\n",
    "test['ARPU_SEGMENT'].fillna((test['ARPU_SEGMENT'].mean()), inplace=True)\n",
    "test['FREQUENCE'].fillna((test['FREQUENCE'].mean()), inplace=True)\n",
    "test['DATA_VOLUME'].fillna((test['DATA_VOLUME'].mean()), inplace=True)\n",
    "test['ON_NET'].fillna((test['ON_NET'].mean()), inplace=True)\n",
    "test['ORANGE'].fillna((test['ORANGE'].mean()), inplace=True)\n",
    "test['TIGO'].fillna((test['TIGO'].mean()), inplace=True)\n",
    "test['ZONE1'].fillna((test['ZONE1'].mean()), inplace=True)\n",
    "test['ZONE2'].fillna((test['ZONE2'].mean()), inplace=True)\n",
    "test['FREQ_TOP_PACK'].fillna((test['FREQ_TOP_PACK'].mean()), inplace=True)"
   ]
  },
  {
   "cell_type": "code",
   "execution_count": 35,
   "metadata": {
    "colab": {},
    "colab_type": "code",
    "id": "oUgiz2sI5Oo9"
   },
   "outputs": [],
   "source": [
    "#Dropping ZONE1 and ZONE2 in the test dataset\n",
    "test = test.drop(['ZONE1', 'ZONE2'], axis = 1)"
   ]
  },
  {
   "cell_type": "code",
   "execution_count": 36,
   "metadata": {
    "colab": {},
    "colab_type": "code",
    "id": "SPoH6MMXEHq8"
   },
   "outputs": [
    {
     "data": {
      "text/html": [
       "<div>\n",
       "<style scoped>\n",
       "    .dataframe tbody tr th:only-of-type {\n",
       "        vertical-align: middle;\n",
       "    }\n",
       "\n",
       "    .dataframe tbody tr th {\n",
       "        vertical-align: top;\n",
       "    }\n",
       "\n",
       "    .dataframe thead th {\n",
       "        text-align: right;\n",
       "    }\n",
       "</style>\n",
       "<table border=\"1\" class=\"dataframe\">\n",
       "  <thead>\n",
       "    <tr style=\"text-align: right;\">\n",
       "      <th></th>\n",
       "      <th>user_id</th>\n",
       "      <th>TENURE</th>\n",
       "      <th>MONTANT</th>\n",
       "      <th>FREQUENCE_RECH</th>\n",
       "      <th>REVENUE</th>\n",
       "      <th>ARPU_SEGMENT</th>\n",
       "      <th>FREQUENCE</th>\n",
       "      <th>DATA_VOLUME</th>\n",
       "      <th>ON_NET</th>\n",
       "      <th>ORANGE</th>\n",
       "      <th>TIGO</th>\n",
       "      <th>REGULARITY</th>\n",
       "      <th>FREQ_TOP_PACK</th>\n",
       "    </tr>\n",
       "  </thead>\n",
       "  <tbody>\n",
       "    <tr>\n",
       "      <th>0</th>\n",
       "      <td>00001dbe00e56fc4b1c1b65dda63de2a5ece55f9</td>\n",
       "      <td>K &gt; 24 month</td>\n",
       "      <td>5000.000000</td>\n",
       "      <td>5.000000</td>\n",
       "      <td>5000.000000</td>\n",
       "      <td>1667.000000</td>\n",
       "      <td>5.000000</td>\n",
       "      <td>3346.095454</td>\n",
       "      <td>378.00000</td>\n",
       "      <td>11.000000</td>\n",
       "      <td>5.000000</td>\n",
       "      <td>42</td>\n",
       "      <td>5.000000</td>\n",
       "    </tr>\n",
       "    <tr>\n",
       "      <th>1</th>\n",
       "      <td>000055d41c8a62052dd426592e8a4a3342bf565d</td>\n",
       "      <td>I 18-21 month</td>\n",
       "      <td>300.000000</td>\n",
       "      <td>2.000000</td>\n",
       "      <td>326.000000</td>\n",
       "      <td>109.000000</td>\n",
       "      <td>3.000000</td>\n",
       "      <td>397.000000</td>\n",
       "      <td>278.80631</td>\n",
       "      <td>0.000000</td>\n",
       "      <td>23.052088</td>\n",
       "      <td>41</td>\n",
       "      <td>1.000000</td>\n",
       "    </tr>\n",
       "    <tr>\n",
       "      <th>2</th>\n",
       "      <td>000081dd3245e6869a4a9c574c7050e7bb84c2c8</td>\n",
       "      <td>K &gt; 24 month</td>\n",
       "      <td>3300.000000</td>\n",
       "      <td>25.000000</td>\n",
       "      <td>3400.000000</td>\n",
       "      <td>1133.000000</td>\n",
       "      <td>26.000000</td>\n",
       "      <td>7150.000000</td>\n",
       "      <td>0.00000</td>\n",
       "      <td>2.000000</td>\n",
       "      <td>5.000000</td>\n",
       "      <td>57</td>\n",
       "      <td>22.000000</td>\n",
       "    </tr>\n",
       "    <tr>\n",
       "      <th>3</th>\n",
       "      <td>0000b76d2145d9445d9ff6b65c9ebc4196c89337</td>\n",
       "      <td>K &gt; 24 month</td>\n",
       "      <td>5524.958826</td>\n",
       "      <td>11.519853</td>\n",
       "      <td>5499.680468</td>\n",
       "      <td>1833.232443</td>\n",
       "      <td>13.957963</td>\n",
       "      <td>3346.095454</td>\n",
       "      <td>278.80631</td>\n",
       "      <td>95.193008</td>\n",
       "      <td>23.052088</td>\n",
       "      <td>9</td>\n",
       "      <td>9.261584</td>\n",
       "    </tr>\n",
       "    <tr>\n",
       "      <th>4</th>\n",
       "      <td>0000bae5480628cf8fe51ad84bcb39772fc79224</td>\n",
       "      <td>K &gt; 24 month</td>\n",
       "      <td>5524.958826</td>\n",
       "      <td>11.519853</td>\n",
       "      <td>5499.680468</td>\n",
       "      <td>1833.232443</td>\n",
       "      <td>13.957963</td>\n",
       "      <td>3346.095454</td>\n",
       "      <td>278.80631</td>\n",
       "      <td>95.193008</td>\n",
       "      <td>23.052088</td>\n",
       "      <td>10</td>\n",
       "      <td>9.261584</td>\n",
       "    </tr>\n",
       "  </tbody>\n",
       "</table>\n",
       "</div>"
      ],
      "text/plain": [
       "                                    user_id         TENURE      MONTANT  \\\n",
       "0  00001dbe00e56fc4b1c1b65dda63de2a5ece55f9   K > 24 month  5000.000000   \n",
       "1  000055d41c8a62052dd426592e8a4a3342bf565d  I 18-21 month   300.000000   \n",
       "2  000081dd3245e6869a4a9c574c7050e7bb84c2c8   K > 24 month  3300.000000   \n",
       "3  0000b76d2145d9445d9ff6b65c9ebc4196c89337   K > 24 month  5524.958826   \n",
       "4  0000bae5480628cf8fe51ad84bcb39772fc79224   K > 24 month  5524.958826   \n",
       "\n",
       "   FREQUENCE_RECH      REVENUE  ARPU_SEGMENT  FREQUENCE  DATA_VOLUME  \\\n",
       "0        5.000000  5000.000000   1667.000000   5.000000  3346.095454   \n",
       "1        2.000000   326.000000    109.000000   3.000000   397.000000   \n",
       "2       25.000000  3400.000000   1133.000000  26.000000  7150.000000   \n",
       "3       11.519853  5499.680468   1833.232443  13.957963  3346.095454   \n",
       "4       11.519853  5499.680468   1833.232443  13.957963  3346.095454   \n",
       "\n",
       "      ON_NET     ORANGE       TIGO  REGULARITY  FREQ_TOP_PACK  \n",
       "0  378.00000  11.000000   5.000000          42       5.000000  \n",
       "1  278.80631   0.000000  23.052088          41       1.000000  \n",
       "2    0.00000   2.000000   5.000000          57      22.000000  \n",
       "3  278.80631  95.193008  23.052088           9       9.261584  \n",
       "4  278.80631  95.193008  23.052088          10       9.261584  "
      ]
     },
     "execution_count": 36,
     "metadata": {},
     "output_type": "execute_result"
    }
   ],
   "source": [
    "# Viewing the head of the test data file\n",
    "\n",
    "test.head()"
   ]
  },
  {
   "cell_type": "code",
   "execution_count": 37,
   "metadata": {
    "colab": {},
    "colab_type": "code",
    "id": "Pw9SclZREHrA"
   },
   "outputs": [
    {
     "data": {
      "text/plain": [
       "user_id           0\n",
       "TENURE            0\n",
       "MONTANT           0\n",
       "FREQUENCE_RECH    0\n",
       "REVENUE           0\n",
       "ARPU_SEGMENT      0\n",
       "FREQUENCE         0\n",
       "DATA_VOLUME       0\n",
       "ON_NET            0\n",
       "ORANGE            0\n",
       "TIGO              0\n",
       "REGULARITY        0\n",
       "FREQ_TOP_PACK     0\n",
       "dtype: int64"
      ]
     },
     "execution_count": 37,
     "metadata": {},
     "output_type": "execute_result"
    }
   ],
   "source": [
    "test.isnull().sum()"
   ]
  },
  {
   "cell_type": "markdown",
   "metadata": {
    "colab_type": "text",
    "id": "i7DW5svBEHrG"
   },
   "source": [
    "## Machine Learning\n",
    "#### In this section, we import the necessary modules and libraries to help us build as many models as necessary to train our dataset and test it's efficiency using the log_loss metric in sklearn."
   ]
  },
  {
   "cell_type": "code",
   "execution_count": 38,
   "metadata": {
    "colab": {},
    "colab_type": "code",
    "id": "OQ2QzNQBEHrH"
   },
   "outputs": [],
   "source": [
    "# Importing some modules from the sklearn library\n",
    "\n",
    "from sklearn.model_selection import train_test_split,cross_val_score\n",
    "from sklearn.metrics import accuracy_score,confusion_matrix,recall_score,precision_recall_curve, f1_score\n",
    "from sklearn.preprocessing import StandardScaler\n",
    "from sklearn.ensemble import RandomForestClassifier\n",
    "from sklearn.preprocessing import LabelEncoder"
   ]
  },
  {
   "cell_type": "code",
   "execution_count": 39,
   "metadata": {
    "colab": {},
    "colab_type": "code",
    "id": "oFSE0GocEHrL"
   },
   "outputs": [
    {
     "name": "stdout",
     "output_type": "stream",
     "text": [
      "(2154048, 12)\n",
      "(2154048,)\n",
      "(380127, 12)\n"
     ]
    }
   ],
   "source": [
    "# Separating the train data file into its component features and target variable\n",
    "dropcols = ['user_id', 'CHURN']\n",
    "y = train['CHURN']                            # Target variable\n",
    "x = train.drop(columns=dropcols, axis=1)      # Other features \n",
    "test = test.drop(columns=['user_id'], axis=1) #you will use this for predicting and submitting the result from the model\n",
    "\n",
    "# Viewing the shapes of the resulting data files\n",
    "print(x.shape)\n",
    "print(y.shape)\n",
    "print(test.shape)"
   ]
  },
  {
   "cell_type": "markdown",
   "metadata": {
    "colab_type": "text",
    "id": "vY9dL8jyOnx6"
   },
   "source": [
    "#### Split training data into train and test split"
   ]
  },
  {
   "cell_type": "code",
   "execution_count": 40,
   "metadata": {
    "colab": {},
    "colab_type": "code",
    "id": "HAS8AC_oEHre"
   },
   "outputs": [
    {
     "name": "stdout",
     "output_type": "stream",
     "text": [
      "(1938643, 12)\n",
      "(1938643,)\n",
      "(215405, 12)\n",
      "(215405,)\n"
     ]
    }
   ],
   "source": [
    "# Splitting data for building models with sklearn's train_test_split module and viewing the shapes of the resulting data files\n",
    "\n",
    "X_train,X_test,y_train,y_test = train_test_split(x,y,test_size = 0.1,random_state=1, stratify=y)\n",
    "print(X_train.shape)\n",
    "print(y_train.shape)\n",
    "\n",
    "print(X_test.shape)\n",
    "print(y_test.shape)"
   ]
  },
  {
   "cell_type": "markdown",
   "metadata": {
    "colab_type": "text",
    "id": "uwgPzPy2PUFf"
   },
   "source": [
    "#### Further split X_train and y_train into train and validation sets"
   ]
  },
  {
   "cell_type": "code",
   "execution_count": 41,
   "metadata": {
    "colab": {},
    "colab_type": "code",
    "id": "7DH4LBz5EHrq"
   },
   "outputs": [],
   "source": [
    "# Conducting further spliting\n",
    "\n",
    "#X_train,X_val,y_train,y_val = train_test_split(X_train,y_train,test_size = 0.2, random_state=1)"
   ]
  },
  {
   "cell_type": "code",
   "execution_count": 42,
   "metadata": {
    "colab": {},
    "colab_type": "code",
    "id": "sCSNuGPoEHrv"
   },
   "outputs": [
    {
     "name": "stdout",
     "output_type": "stream",
     "text": [
      "train\n",
      "(1938643, 12)\n",
      "(1938643,)\n",
      "+++++++\n",
      "test\n",
      "(215405, 12)\n",
      "(215405,)\n",
      "+++++++\n",
      "validation\n"
     ]
    }
   ],
   "source": [
    "#Viewing shapes of the resulting split files\n",
    "\n",
    "print(\"train\")\n",
    "print(X_train.shape)\n",
    "print(y_train.shape)\n",
    "print(\"+\"*7)\n",
    "print(\"test\")\n",
    "print(X_test.shape)\n",
    "print(y_test.shape)\n",
    "print(\"+\"*7)\n",
    "print(\"validation\")\n",
    "#print(X_val.shape)\n",
    "#print(y_val.shape)"
   ]
  },
  {
   "cell_type": "markdown",
   "metadata": {
    "colab_type": "text",
    "id": "ZyE28hm8P6q9"
   },
   "source": [
    "#### Standardize numeric columns using StandardScaler()\n",
    "This is to help reduce outliers in the data files.\n",
    "\n"
   ]
  },
  {
   "cell_type": "code",
   "execution_count": 43,
   "metadata": {
    "colab": {},
    "colab_type": "code",
    "id": "9d7U110cEHsA"
   },
   "outputs": [],
   "source": [
    "#Columns to be standardized\n",
    "\n",
    "num_cols = ['MONTANT', 'FREQUENCE_RECH', 'REVENUE', 'ARPU_SEGMENT', 'FREQUENCE',\n",
    "       'DATA_VOLUME', 'ON_NET', 'ORANGE', 'TIGO', 'REGULARITY', 'FREQ_TOP_PACK']"
   ]
  },
  {
   "cell_type": "code",
   "execution_count": 44,
   "metadata": {
    "colab": {},
    "colab_type": "code",
    "id": "JxrGfBvJEHsH"
   },
   "outputs": [],
   "source": [
    "# Instantiating the StandardScaler()\n",
    "\n",
    "scaler = StandardScaler()"
   ]
  },
  {
   "cell_type": "code",
   "execution_count": 45,
   "metadata": {
    "colab": {},
    "colab_type": "code",
    "id": "_BpgBzZNEHsO"
   },
   "outputs": [],
   "source": [
    "# Scaling the selected columns in the X_train data file\n",
    "X_train[num_cols] = scaler.fit_transform(X_train[num_cols])"
   ]
  },
  {
   "cell_type": "code",
   "execution_count": 46,
   "metadata": {
    "colab": {},
    "colab_type": "code",
    "id": "mnuz1qqkEHse"
   },
   "outputs": [
    {
     "data": {
      "text/html": [
       "<div>\n",
       "<style scoped>\n",
       "    .dataframe tbody tr th:only-of-type {\n",
       "        vertical-align: middle;\n",
       "    }\n",
       "\n",
       "    .dataframe tbody tr th {\n",
       "        vertical-align: top;\n",
       "    }\n",
       "\n",
       "    .dataframe thead th {\n",
       "        text-align: right;\n",
       "    }\n",
       "</style>\n",
       "<table border=\"1\" class=\"dataframe\">\n",
       "  <thead>\n",
       "    <tr style=\"text-align: right;\">\n",
       "      <th></th>\n",
       "      <th>TENURE</th>\n",
       "      <th>MONTANT</th>\n",
       "      <th>FREQUENCE_RECH</th>\n",
       "      <th>REVENUE</th>\n",
       "      <th>ARPU_SEGMENT</th>\n",
       "      <th>FREQUENCE</th>\n",
       "      <th>DATA_VOLUME</th>\n",
       "      <th>ON_NET</th>\n",
       "      <th>ORANGE</th>\n",
       "      <th>TIGO</th>\n",
       "      <th>REGULARITY</th>\n",
       "      <th>FREQ_TOP_PACK</th>\n",
       "    </tr>\n",
       "  </thead>\n",
       "  <tbody>\n",
       "    <tr>\n",
       "      <th>1439060</th>\n",
       "      <td>K &gt; 24 month</td>\n",
       "      <td>-0.005916</td>\n",
       "      <td>-0.143272</td>\n",
       "      <td>0.083226</td>\n",
       "      <td>0.083053</td>\n",
       "      <td>0.669721</td>\n",
       "      <td>-0.000178</td>\n",
       "      <td>-0.292920</td>\n",
       "      <td>0.329113</td>\n",
       "      <td>-0.499196</td>\n",
       "      <td>0.491496</td>\n",
       "      <td>-0.350428</td>\n",
       "    </tr>\n",
       "    <tr>\n",
       "      <th>1146470</th>\n",
       "      <td>K &gt; 24 month</td>\n",
       "      <td>-0.791145</td>\n",
       "      <td>-0.891212</td>\n",
       "      <td>-0.771603</td>\n",
       "      <td>-0.771608</td>\n",
       "      <td>-1.000991</td>\n",
       "      <td>-0.300524</td>\n",
       "      <td>-0.369103</td>\n",
       "      <td>-0.590049</td>\n",
       "      <td>0.344386</td>\n",
       "      <td>-1.034035</td>\n",
       "      <td>-0.885572</td>\n",
       "    </tr>\n",
       "    <tr>\n",
       "      <th>1042085</th>\n",
       "      <td>K &gt; 24 month</td>\n",
       "      <td>-0.791145</td>\n",
       "      <td>-0.984704</td>\n",
       "      <td>-0.000395</td>\n",
       "      <td>-0.000395</td>\n",
       "      <td>-0.000389</td>\n",
       "      <td>-0.000178</td>\n",
       "      <td>-0.397852</td>\n",
       "      <td>-0.500686</td>\n",
       "      <td>-0.499196</td>\n",
       "      <td>-0.136664</td>\n",
       "      <td>-0.000180</td>\n",
       "    </tr>\n",
       "    <tr>\n",
       "      <th>1502463</th>\n",
       "      <td>K &gt; 24 month</td>\n",
       "      <td>0.692065</td>\n",
       "      <td>0.698160</td>\n",
       "      <td>0.765418</td>\n",
       "      <td>0.765246</td>\n",
       "      <td>0.502650</td>\n",
       "      <td>-0.333646</td>\n",
       "      <td>-0.267047</td>\n",
       "      <td>1.050401</td>\n",
       "      <td>0.344386</td>\n",
       "      <td>0.985050</td>\n",
       "      <td>1.147976</td>\n",
       "    </tr>\n",
       "    <tr>\n",
       "      <th>340965</th>\n",
       "      <td>K &gt; 24 month</td>\n",
       "      <td>0.648441</td>\n",
       "      <td>0.978638</td>\n",
       "      <td>0.524885</td>\n",
       "      <td>0.524713</td>\n",
       "      <td>1.003864</td>\n",
       "      <td>-0.000178</td>\n",
       "      <td>0.378354</td>\n",
       "      <td>0.041875</td>\n",
       "      <td>0.121085</td>\n",
       "      <td>1.209393</td>\n",
       "      <td>0.184716</td>\n",
       "    </tr>\n",
       "  </tbody>\n",
       "</table>\n",
       "</div>"
      ],
      "text/plain": [
       "               TENURE   MONTANT  FREQUENCE_RECH   REVENUE  ARPU_SEGMENT  \\\n",
       "1439060  K > 24 month -0.005916       -0.143272  0.083226      0.083053   \n",
       "1146470  K > 24 month -0.791145       -0.891212 -0.771603     -0.771608   \n",
       "1042085  K > 24 month -0.791145       -0.984704 -0.000395     -0.000395   \n",
       "1502463  K > 24 month  0.692065        0.698160  0.765418      0.765246   \n",
       "340965   K > 24 month  0.648441        0.978638  0.524885      0.524713   \n",
       "\n",
       "         FREQUENCE  DATA_VOLUME    ON_NET    ORANGE      TIGO  REGULARITY  \\\n",
       "1439060   0.669721    -0.000178 -0.292920  0.329113 -0.499196    0.491496   \n",
       "1146470  -1.000991    -0.300524 -0.369103 -0.590049  0.344386   -1.034035   \n",
       "1042085  -0.000389    -0.000178 -0.397852 -0.500686 -0.499196   -0.136664   \n",
       "1502463   0.502650    -0.333646 -0.267047  1.050401  0.344386    0.985050   \n",
       "340965    1.003864    -0.000178  0.378354  0.041875  0.121085    1.209393   \n",
       "\n",
       "         FREQ_TOP_PACK  \n",
       "1439060      -0.350428  \n",
       "1146470      -0.885572  \n",
       "1042085      -0.000180  \n",
       "1502463       1.147976  \n",
       "340965        0.184716  "
      ]
     },
     "execution_count": 46,
     "metadata": {},
     "output_type": "execute_result"
    }
   ],
   "source": [
    "#Viewing the head of the scaled X_train data file\n",
    "\n",
    "X_train.head()"
   ]
  },
  {
   "cell_type": "code",
   "execution_count": 47,
   "metadata": {
    "colab": {},
    "colab_type": "code",
    "id": "eXm30m4yEHsr"
   },
   "outputs": [],
   "source": [
    "# Scaling the selected columns in the X_test data file\n",
    "X_test[num_cols] = scaler.transform(X_test[num_cols])"
   ]
  },
  {
   "cell_type": "code",
   "execution_count": 48,
   "metadata": {
    "colab": {},
    "colab_type": "code",
    "id": "MgpRgvKVEHsy"
   },
   "outputs": [
    {
     "data": {
      "text/html": [
       "<div>\n",
       "<style scoped>\n",
       "    .dataframe tbody tr th:only-of-type {\n",
       "        vertical-align: middle;\n",
       "    }\n",
       "\n",
       "    .dataframe tbody tr th {\n",
       "        vertical-align: top;\n",
       "    }\n",
       "\n",
       "    .dataframe thead th {\n",
       "        text-align: right;\n",
       "    }\n",
       "</style>\n",
       "<table border=\"1\" class=\"dataframe\">\n",
       "  <thead>\n",
       "    <tr style=\"text-align: right;\">\n",
       "      <th></th>\n",
       "      <th>TENURE</th>\n",
       "      <th>MONTANT</th>\n",
       "      <th>FREQUENCE_RECH</th>\n",
       "      <th>REVENUE</th>\n",
       "      <th>ARPU_SEGMENT</th>\n",
       "      <th>FREQUENCE</th>\n",
       "      <th>DATA_VOLUME</th>\n",
       "      <th>ON_NET</th>\n",
       "      <th>ORANGE</th>\n",
       "      <th>TIGO</th>\n",
       "      <th>REGULARITY</th>\n",
       "      <th>FREQ_TOP_PACK</th>\n",
       "    </tr>\n",
       "  </thead>\n",
       "  <tbody>\n",
       "    <tr>\n",
       "      <th>671783</th>\n",
       "      <td>K &gt; 24 month</td>\n",
       "      <td>-0.000312</td>\n",
       "      <td>-0.000311</td>\n",
       "      <td>-0.000395</td>\n",
       "      <td>-0.000395</td>\n",
       "      <td>-0.000389</td>\n",
       "      <td>-0.353037</td>\n",
       "      <td>-0.000134</td>\n",
       "      <td>-0.000134</td>\n",
       "      <td>-0.000261</td>\n",
       "      <td>-0.361007</td>\n",
       "      <td>-0.000180</td>\n",
       "    </tr>\n",
       "    <tr>\n",
       "      <th>1490471</th>\n",
       "      <td>K &gt; 24 month</td>\n",
       "      <td>-0.887117</td>\n",
       "      <td>-0.891212</td>\n",
       "      <td>-0.829604</td>\n",
       "      <td>-0.829438</td>\n",
       "      <td>-0.666848</td>\n",
       "      <td>-0.000178</td>\n",
       "      <td>-0.387790</td>\n",
       "      <td>-0.590049</td>\n",
       "      <td>-0.499196</td>\n",
       "      <td>-0.719955</td>\n",
       "      <td>-0.000180</td>\n",
       "    </tr>\n",
       "    <tr>\n",
       "      <th>28446</th>\n",
       "      <td>K &gt; 24 month</td>\n",
       "      <td>-0.477053</td>\n",
       "      <td>-0.610734</td>\n",
       "      <td>-0.634448</td>\n",
       "      <td>-0.634452</td>\n",
       "      <td>-0.833919</td>\n",
       "      <td>-0.000178</td>\n",
       "      <td>-0.399289</td>\n",
       "      <td>-0.596432</td>\n",
       "      <td>-0.573630</td>\n",
       "      <td>-0.405875</td>\n",
       "      <td>-0.000180</td>\n",
       "    </tr>\n",
       "    <tr>\n",
       "      <th>688765</th>\n",
       "      <td>K &gt; 24 month</td>\n",
       "      <td>-0.337457</td>\n",
       "      <td>-0.236764</td>\n",
       "      <td>-0.359627</td>\n",
       "      <td>-0.359631</td>\n",
       "      <td>-0.332706</td>\n",
       "      <td>-0.353037</td>\n",
       "      <td>0.832579</td>\n",
       "      <td>-0.602815</td>\n",
       "      <td>-0.548819</td>\n",
       "      <td>1.478604</td>\n",
       "      <td>-0.564486</td>\n",
       "    </tr>\n",
       "    <tr>\n",
       "      <th>193430</th>\n",
       "      <td>K &gt; 24 month</td>\n",
       "      <td>18.281184</td>\n",
       "      <td>9.860422</td>\n",
       "      <td>18.317993</td>\n",
       "      <td>18.318023</td>\n",
       "      <td>6.350142</td>\n",
       "      <td>4.043375</td>\n",
       "      <td>-0.221049</td>\n",
       "      <td>20.346431</td>\n",
       "      <td>2.478152</td>\n",
       "      <td>1.523473</td>\n",
       "      <td>6.285362</td>\n",
       "    </tr>\n",
       "  </tbody>\n",
       "</table>\n",
       "</div>"
      ],
      "text/plain": [
       "               TENURE    MONTANT  FREQUENCE_RECH    REVENUE  ARPU_SEGMENT  \\\n",
       "671783   K > 24 month  -0.000312       -0.000311  -0.000395     -0.000395   \n",
       "1490471  K > 24 month  -0.887117       -0.891212  -0.829604     -0.829438   \n",
       "28446    K > 24 month  -0.477053       -0.610734  -0.634448     -0.634452   \n",
       "688765   K > 24 month  -0.337457       -0.236764  -0.359627     -0.359631   \n",
       "193430   K > 24 month  18.281184        9.860422  18.317993     18.318023   \n",
       "\n",
       "         FREQUENCE  DATA_VOLUME    ON_NET     ORANGE      TIGO  REGULARITY  \\\n",
       "671783   -0.000389    -0.353037 -0.000134  -0.000134 -0.000261   -0.361007   \n",
       "1490471  -0.666848    -0.000178 -0.387790  -0.590049 -0.499196   -0.719955   \n",
       "28446    -0.833919    -0.000178 -0.399289  -0.596432 -0.573630   -0.405875   \n",
       "688765   -0.332706    -0.353037  0.832579  -0.602815 -0.548819    1.478604   \n",
       "193430    6.350142     4.043375 -0.221049  20.346431  2.478152    1.523473   \n",
       "\n",
       "         FREQ_TOP_PACK  \n",
       "671783       -0.000180  \n",
       "1490471      -0.000180  \n",
       "28446        -0.000180  \n",
       "688765       -0.564486  \n",
       "193430        6.285362  "
      ]
     },
     "execution_count": 48,
     "metadata": {},
     "output_type": "execute_result"
    }
   ],
   "source": [
    "#Viewing the head of the scaled X_test data file\n",
    "X_test.head()"
   ]
  },
  {
   "cell_type": "code",
   "execution_count": 49,
   "metadata": {
    "colab": {},
    "colab_type": "code",
    "id": "yi_EsBj3EHs5"
   },
   "outputs": [],
   "source": [
    "# Scaling the selected columns in the test data file\n",
    "test[num_cols] = scaler.transform(test[num_cols])"
   ]
  },
  {
   "cell_type": "code",
   "execution_count": 50,
   "metadata": {
    "colab": {},
    "colab_type": "code",
    "id": "M5tF-rUvEHtA"
   },
   "outputs": [
    {
     "data": {
      "text/html": [
       "<div>\n",
       "<style scoped>\n",
       "    .dataframe tbody tr th:only-of-type {\n",
       "        vertical-align: middle;\n",
       "    }\n",
       "\n",
       "    .dataframe tbody tr th {\n",
       "        vertical-align: top;\n",
       "    }\n",
       "\n",
       "    .dataframe thead th {\n",
       "        text-align: right;\n",
       "    }\n",
       "</style>\n",
       "<table border=\"1\" class=\"dataframe\">\n",
       "  <thead>\n",
       "    <tr style=\"text-align: right;\">\n",
       "      <th></th>\n",
       "      <th>TENURE</th>\n",
       "      <th>MONTANT</th>\n",
       "      <th>FREQUENCE_RECH</th>\n",
       "      <th>REVENUE</th>\n",
       "      <th>ARPU_SEGMENT</th>\n",
       "      <th>FREQUENCE</th>\n",
       "      <th>DATA_VOLUME</th>\n",
       "      <th>ON_NET</th>\n",
       "      <th>ORANGE</th>\n",
       "      <th>TIGO</th>\n",
       "      <th>REGULARITY</th>\n",
       "      <th>FREQ_TOP_PACK</th>\n",
       "    </tr>\n",
       "  </thead>\n",
       "  <tbody>\n",
       "    <tr>\n",
       "      <th>0</th>\n",
       "      <td>K &gt; 24 month</td>\n",
       "      <td>-0.093164</td>\n",
       "      <td>-0.610734</td>\n",
       "      <td>-0.087535</td>\n",
       "      <td>-0.087368</td>\n",
       "      <td>-0.750384</td>\n",
       "      <td>-0.002312</td>\n",
       "      <td>0.144055</td>\n",
       "      <td>-0.538985</td>\n",
       "      <td>-0.449574</td>\n",
       "      <td>0.626102</td>\n",
       "      <td>-0.457457</td>\n",
       "    </tr>\n",
       "    <tr>\n",
       "      <th>1</th>\n",
       "      <td>I 18-21 month</td>\n",
       "      <td>-0.913291</td>\n",
       "      <td>-0.891212</td>\n",
       "      <td>-0.884875</td>\n",
       "      <td>-0.884709</td>\n",
       "      <td>-0.917455</td>\n",
       "      <td>-0.311425</td>\n",
       "      <td>0.001472</td>\n",
       "      <td>-0.609198</td>\n",
       "      <td>-0.001679</td>\n",
       "      <td>0.581233</td>\n",
       "      <td>-0.885572</td>\n",
       "    </tr>\n",
       "    <tr>\n",
       "      <th>2</th>\n",
       "      <td>K &gt; 24 month</td>\n",
       "      <td>-0.389806</td>\n",
       "      <td>1.259115</td>\n",
       "      <td>-0.360480</td>\n",
       "      <td>-0.360654</td>\n",
       "      <td>1.003864</td>\n",
       "      <td>0.396399</td>\n",
       "      <td>-0.399289</td>\n",
       "      <td>-0.596432</td>\n",
       "      <td>-0.449574</td>\n",
       "      <td>1.299130</td>\n",
       "      <td>1.362034</td>\n",
       "    </tr>\n",
       "    <tr>\n",
       "      <th>3</th>\n",
       "      <td>K &gt; 24 month</td>\n",
       "      <td>-0.001561</td>\n",
       "      <td>-0.001177</td>\n",
       "      <td>-0.002294</td>\n",
       "      <td>-0.002294</td>\n",
       "      <td>-0.002075</td>\n",
       "      <td>-0.002312</td>\n",
       "      <td>0.001472</td>\n",
       "      <td>-0.001575</td>\n",
       "      <td>-0.001679</td>\n",
       "      <td>-0.854561</td>\n",
       "      <td>-0.001344</td>\n",
       "    </tr>\n",
       "    <tr>\n",
       "      <th>4</th>\n",
       "      <td>K &gt; 24 month</td>\n",
       "      <td>-0.001561</td>\n",
       "      <td>-0.001177</td>\n",
       "      <td>-0.002294</td>\n",
       "      <td>-0.002294</td>\n",
       "      <td>-0.002075</td>\n",
       "      <td>-0.002312</td>\n",
       "      <td>0.001472</td>\n",
       "      <td>-0.001575</td>\n",
       "      <td>-0.001679</td>\n",
       "      <td>-0.809692</td>\n",
       "      <td>-0.001344</td>\n",
       "    </tr>\n",
       "  </tbody>\n",
       "</table>\n",
       "</div>"
      ],
      "text/plain": [
       "          TENURE   MONTANT  FREQUENCE_RECH   REVENUE  ARPU_SEGMENT  FREQUENCE  \\\n",
       "0   K > 24 month -0.093164       -0.610734 -0.087535     -0.087368  -0.750384   \n",
       "1  I 18-21 month -0.913291       -0.891212 -0.884875     -0.884709  -0.917455   \n",
       "2   K > 24 month -0.389806        1.259115 -0.360480     -0.360654   1.003864   \n",
       "3   K > 24 month -0.001561       -0.001177 -0.002294     -0.002294  -0.002075   \n",
       "4   K > 24 month -0.001561       -0.001177 -0.002294     -0.002294  -0.002075   \n",
       "\n",
       "   DATA_VOLUME    ON_NET    ORANGE      TIGO  REGULARITY  FREQ_TOP_PACK  \n",
       "0    -0.002312  0.144055 -0.538985 -0.449574    0.626102      -0.457457  \n",
       "1    -0.311425  0.001472 -0.609198 -0.001679    0.581233      -0.885572  \n",
       "2     0.396399 -0.399289 -0.596432 -0.449574    1.299130       1.362034  \n",
       "3    -0.002312  0.001472 -0.001575 -0.001679   -0.854561      -0.001344  \n",
       "4    -0.002312  0.001472 -0.001575 -0.001679   -0.809692      -0.001344  "
      ]
     },
     "execution_count": 50,
     "metadata": {},
     "output_type": "execute_result"
    }
   ],
   "source": [
    "#Viewing the head of the scaled test data file\n",
    "test.head()"
   ]
  },
  {
   "cell_type": "code",
   "execution_count": 51,
   "metadata": {
    "colab": {},
    "colab_type": "code",
    "id": "JoWi5zz3EHtH"
   },
   "outputs": [],
   "source": [
    "# Scaling the selected columns in the X_val data file\n",
    "#X_val[num_cols] = scaler.transform(X_val[num_cols])"
   ]
  },
  {
   "cell_type": "code",
   "execution_count": 52,
   "metadata": {
    "colab": {},
    "colab_type": "code",
    "id": "MhYPAM-OEHtN"
   },
   "outputs": [],
   "source": [
    "#Viewing the head of the scaled X_val data file\n",
    "#X_val.head()"
   ]
  },
  {
   "cell_type": "markdown",
   "metadata": {
    "colab_type": "text",
    "id": "Yke_yhhATRCb"
   },
   "source": [
    "#### Encode the TENURE column in the X_train, X_test, X_val and test data files with sklearn's LabelEncoder"
   ]
  },
  {
   "cell_type": "code",
   "execution_count": 53,
   "metadata": {
    "colab": {},
    "colab_type": "code",
    "id": "gh5rKX-5EHtg"
   },
   "outputs": [],
   "source": [
    "encoder = LabelEncoder()            # Instantiating the LabelEncoder()\n",
    "X_train[\"TENURE\"] = encoder.fit_transform(X_train[\"TENURE\"])"
   ]
  },
  {
   "cell_type": "code",
   "execution_count": 54,
   "metadata": {
    "colab": {},
    "colab_type": "code",
    "id": "Itts9qBhEHtn"
   },
   "outputs": [],
   "source": [
    "X_test[\"TENURE\"] = encoder.fit_transform(X_test[\"TENURE\"])"
   ]
  },
  {
   "cell_type": "code",
   "execution_count": 55,
   "metadata": {
    "colab": {},
    "colab_type": "code",
    "id": "58cLvQdSEHtw"
   },
   "outputs": [],
   "source": [
    "#X_val['TENURE'] = encoder.fit_transform(X_val[\"TENURE\"])"
   ]
  },
  {
   "cell_type": "code",
   "execution_count": 56,
   "metadata": {
    "colab": {},
    "colab_type": "code",
    "id": "i_Lf_rmMEHt5"
   },
   "outputs": [],
   "source": [
    "test['TENURE'] = encoder.fit_transform(test[\"TENURE\"])"
   ]
  },
  {
   "cell_type": "code",
   "execution_count": 57,
   "metadata": {
    "colab": {},
    "colab_type": "code",
    "id": "LNlateSXEHuJ"
   },
   "outputs": [
    {
     "data": {
      "text/html": [
       "<div>\n",
       "<style scoped>\n",
       "    .dataframe tbody tr th:only-of-type {\n",
       "        vertical-align: middle;\n",
       "    }\n",
       "\n",
       "    .dataframe tbody tr th {\n",
       "        vertical-align: top;\n",
       "    }\n",
       "\n",
       "    .dataframe thead th {\n",
       "        text-align: right;\n",
       "    }\n",
       "</style>\n",
       "<table border=\"1\" class=\"dataframe\">\n",
       "  <thead>\n",
       "    <tr style=\"text-align: right;\">\n",
       "      <th></th>\n",
       "      <th>TENURE</th>\n",
       "      <th>MONTANT</th>\n",
       "      <th>FREQUENCE_RECH</th>\n",
       "      <th>REVENUE</th>\n",
       "      <th>ARPU_SEGMENT</th>\n",
       "      <th>FREQUENCE</th>\n",
       "      <th>DATA_VOLUME</th>\n",
       "      <th>ON_NET</th>\n",
       "      <th>ORANGE</th>\n",
       "      <th>TIGO</th>\n",
       "      <th>REGULARITY</th>\n",
       "      <th>FREQ_TOP_PACK</th>\n",
       "    </tr>\n",
       "  </thead>\n",
       "  <tbody>\n",
       "    <tr>\n",
       "      <th>1439060</th>\n",
       "      <td>7</td>\n",
       "      <td>-0.005916</td>\n",
       "      <td>-0.143272</td>\n",
       "      <td>0.083226</td>\n",
       "      <td>0.083053</td>\n",
       "      <td>0.669721</td>\n",
       "      <td>-0.000178</td>\n",
       "      <td>-0.292920</td>\n",
       "      <td>0.329113</td>\n",
       "      <td>-0.499196</td>\n",
       "      <td>0.491496</td>\n",
       "      <td>-0.350428</td>\n",
       "    </tr>\n",
       "    <tr>\n",
       "      <th>1146470</th>\n",
       "      <td>7</td>\n",
       "      <td>-0.791145</td>\n",
       "      <td>-0.891212</td>\n",
       "      <td>-0.771603</td>\n",
       "      <td>-0.771608</td>\n",
       "      <td>-1.000991</td>\n",
       "      <td>-0.300524</td>\n",
       "      <td>-0.369103</td>\n",
       "      <td>-0.590049</td>\n",
       "      <td>0.344386</td>\n",
       "      <td>-1.034035</td>\n",
       "      <td>-0.885572</td>\n",
       "    </tr>\n",
       "    <tr>\n",
       "      <th>1042085</th>\n",
       "      <td>7</td>\n",
       "      <td>-0.791145</td>\n",
       "      <td>-0.984704</td>\n",
       "      <td>-0.000395</td>\n",
       "      <td>-0.000395</td>\n",
       "      <td>-0.000389</td>\n",
       "      <td>-0.000178</td>\n",
       "      <td>-0.397852</td>\n",
       "      <td>-0.500686</td>\n",
       "      <td>-0.499196</td>\n",
       "      <td>-0.136664</td>\n",
       "      <td>-0.000180</td>\n",
       "    </tr>\n",
       "    <tr>\n",
       "      <th>1502463</th>\n",
       "      <td>7</td>\n",
       "      <td>0.692065</td>\n",
       "      <td>0.698160</td>\n",
       "      <td>0.765418</td>\n",
       "      <td>0.765246</td>\n",
       "      <td>0.502650</td>\n",
       "      <td>-0.333646</td>\n",
       "      <td>-0.267047</td>\n",
       "      <td>1.050401</td>\n",
       "      <td>0.344386</td>\n",
       "      <td>0.985050</td>\n",
       "      <td>1.147976</td>\n",
       "    </tr>\n",
       "    <tr>\n",
       "      <th>340965</th>\n",
       "      <td>7</td>\n",
       "      <td>0.648441</td>\n",
       "      <td>0.978638</td>\n",
       "      <td>0.524885</td>\n",
       "      <td>0.524713</td>\n",
       "      <td>1.003864</td>\n",
       "      <td>-0.000178</td>\n",
       "      <td>0.378354</td>\n",
       "      <td>0.041875</td>\n",
       "      <td>0.121085</td>\n",
       "      <td>1.209393</td>\n",
       "      <td>0.184716</td>\n",
       "    </tr>\n",
       "  </tbody>\n",
       "</table>\n",
       "</div>"
      ],
      "text/plain": [
       "         TENURE   MONTANT  FREQUENCE_RECH   REVENUE  ARPU_SEGMENT  FREQUENCE  \\\n",
       "1439060       7 -0.005916       -0.143272  0.083226      0.083053   0.669721   \n",
       "1146470       7 -0.791145       -0.891212 -0.771603     -0.771608  -1.000991   \n",
       "1042085       7 -0.791145       -0.984704 -0.000395     -0.000395  -0.000389   \n",
       "1502463       7  0.692065        0.698160  0.765418      0.765246   0.502650   \n",
       "340965        7  0.648441        0.978638  0.524885      0.524713   1.003864   \n",
       "\n",
       "         DATA_VOLUME    ON_NET    ORANGE      TIGO  REGULARITY  FREQ_TOP_PACK  \n",
       "1439060    -0.000178 -0.292920  0.329113 -0.499196    0.491496      -0.350428  \n",
       "1146470    -0.300524 -0.369103 -0.590049  0.344386   -1.034035      -0.885572  \n",
       "1042085    -0.000178 -0.397852 -0.500686 -0.499196   -0.136664      -0.000180  \n",
       "1502463    -0.333646 -0.267047  1.050401  0.344386    0.985050       1.147976  \n",
       "340965     -0.000178  0.378354  0.041875  0.121085    1.209393       0.184716  "
      ]
     },
     "execution_count": 57,
     "metadata": {},
     "output_type": "execute_result"
    }
   ],
   "source": [
    "# Viewing the head of the encoded X_train data file\n",
    "X_train.head()"
   ]
  },
  {
   "cell_type": "markdown",
   "metadata": {
    "colab_type": "text",
    "id": "W-jr5_11UnlD"
   },
   "source": [
    "### BUILDING A RandomForestClassifier MODEL"
   ]
  },
  {
   "cell_type": "code",
   "execution_count": 58,
   "metadata": {
    "colab": {},
    "colab_type": "code",
    "id": "gbgwm8YoEHuV"
   },
   "outputs": [],
   "source": [
    "# Instantiating Classifier model with parameters\n",
    "rand = RandomForestClassifier(bootstrap=True,\n",
    "                              n_jobs=-1,\n",
    "                              max_depth=6,\n",
    "                              n_estimators=200,\n",
    "                              random_state=1,\n",
    "                             verbose=True)"
   ]
  },
  {
   "cell_type": "code",
   "execution_count": 59,
   "metadata": {
    "colab": {},
    "colab_type": "code",
    "id": "Bo18Xr-9EHuZ"
   },
   "outputs": [
    {
     "name": "stderr",
     "output_type": "stream",
     "text": [
      "[Parallel(n_jobs=-1)]: Using backend ThreadingBackend with 8 concurrent workers.\n",
      "[Parallel(n_jobs=-1)]: Done  34 tasks      | elapsed:   22.2s\n",
      "[Parallel(n_jobs=-1)]: Done 184 tasks      | elapsed:  1.7min\n",
      "[Parallel(n_jobs=-1)]: Done 200 out of 200 | elapsed:  1.8min finished\n"
     ]
    }
   ],
   "source": [
    "#Fit model on data\n",
    "randmodel = rand.fit(X_train,y_train)"
   ]
  },
  {
   "cell_type": "code",
   "execution_count": 60,
   "metadata": {
    "colab": {},
    "colab_type": "code",
    "id": "AZVM5Qw2EHug"
   },
   "outputs": [
    {
     "name": "stderr",
     "output_type": "stream",
     "text": [
      "[Parallel(n_jobs=8)]: Using backend ThreadingBackend with 8 concurrent workers.\n",
      "[Parallel(n_jobs=8)]: Done  34 tasks      | elapsed:    0.1s\n",
      "[Parallel(n_jobs=8)]: Done 184 tasks      | elapsed:    0.8s\n",
      "[Parallel(n_jobs=8)]: Done 200 out of 200 | elapsed:    0.9s finished\n"
     ]
    }
   ],
   "source": [
    "#Predict on the X_test data \n",
    "randpred = randmodel.predict(X_test)"
   ]
  },
  {
   "cell_type": "code",
   "execution_count": 61,
   "metadata": {
    "colab": {},
    "colab_type": "code",
    "id": "w56CoW03EHwT"
   },
   "outputs": [
    {
     "name": "stderr",
     "output_type": "stream",
     "text": [
      "[Parallel(n_jobs=8)]: Using backend ThreadingBackend with 8 concurrent workers.\n",
      "[Parallel(n_jobs=8)]: Done  34 tasks      | elapsed:    0.2s\n",
      "[Parallel(n_jobs=8)]: Done 184 tasks      | elapsed:    1.5s\n",
      "[Parallel(n_jobs=8)]: Done 200 out of 200 | elapsed:    1.6s finished\n"
     ]
    }
   ],
   "source": [
    "#Using the model to make predictions on the test data\n",
    "subpred = randmodel.predict(test)"
   ]
  },
  {
   "cell_type": "code",
   "execution_count": 62,
   "metadata": {
    "colab": {},
    "colab_type": "code",
    "id": "RmycxNcOEHwq"
   },
   "outputs": [
    {
     "data": {
      "text/plain": [
       "array([0, 0, 0, ..., 0, 0, 0], dtype=int64)"
      ]
     },
     "execution_count": 62,
     "metadata": {},
     "output_type": "execute_result"
    }
   ],
   "source": [
    "#Viewing subpred\n",
    "subpred"
   ]
  },
  {
   "cell_type": "code",
   "execution_count": 63,
   "metadata": {
    "colab": {},
    "colab_type": "code",
    "id": "XXnhZGt6Rknv"
   },
   "outputs": [
    {
     "name": "stdout",
     "output_type": "stream",
     "text": [
      "Logloss\n"
     ]
    },
    {
     "data": {
      "text/plain": [
       "4.700194855588535"
      ]
     },
     "execution_count": 63,
     "metadata": {},
     "output_type": "execute_result"
    }
   ],
   "source": [
    "#Checking the log loss of the model's prediction\n",
    "from sklearn.metrics import log_loss          #Importing the log_loss metric from sklearn\n",
    "print('Logloss')\n",
    "log_loss(y_test, randpred)"
   ]
  },
  {
   "cell_type": "code",
   "execution_count": 64,
   "metadata": {
    "colab": {},
    "colab_type": "code",
    "id": "bXiphEQoEHus"
   },
   "outputs": [
    {
     "name": "stdout",
     "output_type": "stream",
     "text": [
      "Acuracy\n"
     ]
    },
    {
     "data": {
      "text/plain": [
       "0.8639168078735405"
      ]
     },
     "execution_count": 64,
     "metadata": {},
     "output_type": "execute_result"
    }
   ],
   "source": [
    "#Checking the accuracy of the model's prediction\n",
    "print(\"Acuracy\")\n",
    "accuracy_score(y_test, randpred)"
   ]
  },
  {
   "cell_type": "code",
   "execution_count": null,
   "metadata": {
    "colab": {},
    "colab_type": "code",
    "id": "7bHOzwgdEHu2"
   },
   "outputs": [],
   "source": [
    "#Finding the Recall value\n",
    "#print(\"Recall\")\n",
    "#recall_score(y_test, randpred)"
   ]
  },
  {
   "cell_type": "code",
   "execution_count": null,
   "metadata": {
    "colab": {},
    "colab_type": "code",
    "id": "_KamQ60wEHvB"
   },
   "outputs": [],
   "source": [
    "#Checking the f1 score\n",
    "#print(\"F1 Score\")\n",
    "#f1_score(y_test, randpred)"
   ]
  },
  {
   "cell_type": "code",
   "execution_count": null,
   "metadata": {
    "colab": {},
    "colab_type": "code",
    "id": "chKJ2YbhEHvb"
   },
   "outputs": [],
   "source": [
    "#Printing confusion matrix of model's prediction\n",
    "#print(\"Confusion Matrix\")\n",
    "#confusion_matrix(y_test, randpred)"
   ]
  },
  {
   "cell_type": "markdown",
   "metadata": {
    "colab_type": "text",
    "id": "vKxpz3QsWHZL"
   },
   "source": [
    "### BUILDING A LogisticRegression MODEL"
   ]
  },
  {
   "cell_type": "code",
   "execution_count": null,
   "metadata": {
    "colab": {},
    "colab_type": "code",
    "id": "8I27MRP4dB20"
   },
   "outputs": [],
   "source": [
    "# importing LogisticRegression from sklearn\n",
    "from sklearn.linear_model import LogisticRegression\n",
    "lg = LogisticRegression()\n",
    "lg.fit(X_train, y_train)\n",
    "lg_pred = lg.predict_proba(X_test)\n",
    "\n",
    "#Evaluating the log loss\n",
    "print(\"Logloss\")\n",
    "log_loss(y_test, lg_pred)"
   ]
  },
  {
   "cell_type": "code",
   "execution_count": null,
   "metadata": {
    "colab": {},
    "colab_type": "code",
    "id": "9NSnozeVncIh"
   },
   "outputs": [],
   "source": [
    "#Printing the classification report \n",
    "from sklearn.metrics import classification_report\n",
    "print(classification_report(y_test, lg.predict(X_test)))"
   ]
  },
  {
   "cell_type": "code",
   "execution_count": null,
   "metadata": {
    "colab": {},
    "colab_type": "code",
    "id": "FQeHIgRKfNGZ"
   },
   "outputs": [],
   "source": [
    "# Using LogisticRegression to make predictions on the test dataset\n",
    "#sample = lg.predict_proba(test)\n",
    "#sample.shape    #Viewing the shape/layout of the sample probability matrix"
   ]
  },
  {
   "cell_type": "code",
   "execution_count": null,
   "metadata": {
    "colab": {},
    "colab_type": "code",
    "id": "1yEQn2MIgZ50"
   },
   "outputs": [],
   "source": [
    "#Viewing the first five values in the sample dataframe\n",
    "#sample[:5,1]"
   ]
  },
  {
   "cell_type": "markdown",
   "metadata": {
    "colab_type": "text",
    "id": "P9tcUU5qWd1o"
   },
   "source": [
    "### BUILDING A GradientBoostingClassifier MODEL"
   ]
  },
  {
   "cell_type": "code",
   "execution_count": null,
   "metadata": {
    "colab": {},
    "colab_type": "code",
    "id": "5fpvDgHH-EBo"
   },
   "outputs": [],
   "source": [
    "#importing the model from sklearn\n",
    "from sklearn.ensemble import GradientBoostingClassifier\n",
    "GBC = GradientBoostingClassifier(max_depth=3, n_estimators=100, min_samples_leaf=2, subsample=0.5, verbose=0)\n",
    "GBC.fit(X_train, y_train)\n",
    "GBC_pred = GBC.predict_proba(X_test)\n",
    "\n",
    "#Printing the log loss value of the model\n",
    "print(\"Logloss\")\n",
    "log_loss(y_test, GBC_pred)"
   ]
  },
  {
   "cell_type": "code",
   "execution_count": null,
   "metadata": {
    "colab": {},
    "colab_type": "code",
    "id": "BhuiulWJBIid"
   },
   "outputs": [],
   "source": [
    "#Running predictions on the test dataset with the model\n",
    "GB = GBC.predict_proba(test)"
   ]
  },
  {
   "cell_type": "markdown",
   "metadata": {
    "colab_type": "text",
    "id": "Yyx8PV5-XJjk"
   },
   "source": [
    "### BUILDING AN  ExtremeGradientBoostingClassifier(XGBClassifier) Model"
   ]
  },
  {
   "cell_type": "code",
   "execution_count": 66,
   "metadata": {
    "colab": {},
    "colab_type": "code",
    "id": "suIJ3CprZHli"
   },
   "outputs": [
    {
     "name": "stdout",
     "output_type": "stream",
     "text": [
      "[14:42:18] WARNING: C:\\Users\\Administrator\\workspace\\xgboost-win64_release_1.2.0\\src\\learner.cc:516: \n",
      "Parameters: { colsample_tree } might not be used.\n",
      "\n",
      "  This may not be accurate due to some parameters are only used in language bindings but\n",
      "  passed down to XGBoost core.  Or some parameters are not used but slip through this\n",
      "  verification. Please open an issue if you find above cases.\n",
      "\n",
      "\n"
     ]
    },
    {
     "data": {
      "text/plain": [
       "{'verbosity': 1,\n",
       " 'subsample': 0.9,\n",
       " 'scale_pos_weight': 1,\n",
       " 'reg_alpha': 0.01,\n",
       " 'random_state': 3,\n",
       " 'n_estimators': 200,\n",
       " 'min_child_weight': 5,\n",
       " 'max_depth': 7,\n",
       " 'max_delta_step': 6,\n",
       " 'learning_rate': 0.01,\n",
       " 'gamma': 0.1,\n",
       " 'colsample_tree': 0.7}"
      ]
     },
     "execution_count": 66,
     "metadata": {},
     "output_type": "execute_result"
    }
   ],
   "source": [
    "#Parameter Tuning for the XGBClassifier model\n",
    "from xgboost import XGBClassifier\n",
    "from sklearn.model_selection import RandomizedSearchCV\n",
    "import numpy as np\n",
    "\n",
    "model = XGBClassifier()\n",
    "\n",
    "param_grid = {'n_estimators':range(100,1000,100),\n",
    "              'max_depth': range(1, 10),\n",
    "              'learning_rate': np.arange(0.01,1),\n",
    "              'scale_pos_weight':range(1,20),\n",
    "              'random_state':[0,1,3,42],\n",
    "              'min_child_weight':range(1,6,1),\n",
    "              'gamma':[i/10.0 for i in range(0,5)],\n",
    "              'subsample':[i/10.0 for i in range(6,10)],\n",
    "              'colsample_tree':[i/10.0 for i in range(6,10)],\n",
    "              'reg_alpha':[1e-5, 1e-2, 0.1, 1, 100],\n",
    "              'verbosity':[0,1,2,3],\n",
    "              'max_delta_step':range(0, 10),\n",
    "              }\n",
    "\n",
    "clf_cv = RandomizedSearchCV(model, \n",
    "                            param_grid,\n",
    "                            n_jobs = -1)\n",
    "clf_cv.fit(X_train, y_train)\n",
    "clf_cv.best_params_"
   ]
  },
  {
   "cell_type": "code",
   "execution_count": 65,
   "metadata": {
    "colab": {},
    "colab_type": "code",
    "id": "SykXzgqwmhfT"
   },
   "outputs": [
    {
     "name": "stdout",
     "output_type": "stream",
     "text": [
      "Logloss\n"
     ]
    },
    {
     "data": {
      "text/plain": [
       "0.29441676922272103"
      ]
     },
     "execution_count": 65,
     "metadata": {},
     "output_type": "execute_result"
    }
   ],
   "source": [
    "#importing XBGClassifier  \n",
    "from xgboost import XGBClassifier\n",
    "from sklearn.metrics import log_loss \n",
    "\n",
    "XGB = XGBClassifier(max_depth=5,n_estimators=800, scale_pos_weight=1,\n",
    "                    gamma=0.1, learning_rate=0.01, max_delta_step=1,\n",
    "                    min_child_weight=2, random_state=42, reg_alpha=0.1,\n",
    "                    subsample=0.7, verbosity=0)\n",
    "XGB.fit(X_train, y_train)\n",
    "xgb_pred = XGB.predict_proba(X_test)\n",
    "\n",
    "#Printing the log loss value of the model\n",
    "print(\"Logloss\")\n",
    "log_loss(y_test, xgb_pred)"
   ]
  },
  {
   "cell_type": "code",
   "execution_count": 70,
   "metadata": {},
   "outputs": [
    {
     "name": "stdout",
     "output_type": "stream",
     "text": [
      "[15:34:45] WARNING: C:\\Users\\Administrator\\workspace\\xgboost-win64_release_1.2.0\\src\\learner.cc:516: \n",
      "Parameters: { colsample_tree } might not be used.\n",
      "\n",
      "  This may not be accurate due to some parameters are only used in language bindings but\n",
      "  passed down to XGBoost core.  Or some parameters are not used but slip through this\n",
      "  verification. Please open an issue if you find above cases.\n",
      "\n",
      "\n",
      "Logloss\n"
     ]
    },
    {
     "data": {
      "text/plain": [
       "0.323130974567027"
      ]
     },
     "execution_count": 70,
     "metadata": {},
     "output_type": "execute_result"
    }
   ],
   "source": [
    "#USING PARAMETERS FROM RANDOMIZEDSEARCHCV without {colsample_tree:0.7}\n",
    "#importing XBGClassifier  \n",
    "from xgboost import XGBClassifier\n",
    "from sklearn.metrics import log_loss \n",
    "\n",
    "XGB = XGBClassifier(max_depth=5,n_estimators=200, scale_pos_weight=1,\n",
    "                    gamma=0.1, learning_rate=0.01, max_delta_step=6,\n",
    "                    min_child_weight=5, random_state=3, reg_alpha=0.01,\n",
    "                    subsample=0.9, verbosity=1, colsample_tree=0.7)\n",
    "XGB.fit(X_train, y_train)\n",
    "xgb_pred = XGB.predict_proba(X_test)\n",
    "\n",
    "#Printing the log loss value of the model\n",
    "print(\"Logloss\")\n",
    "log_loss(y_test, xgb_pred)"
   ]
  },
  {
   "cell_type": "code",
   "execution_count": null,
   "metadata": {
    "colab": {},
    "colab_type": "code",
    "id": "Agj9BVaM4DYl"
   },
   "outputs": [],
   "source": [
    "#Making predictions on test dataset with the model\n",
    "XB = XGB.predict_proba(test)\n"
   ]
  },
  {
   "cell_type": "code",
   "execution_count": null,
   "metadata": {
    "colab": {},
    "colab_type": "code",
    "id": "uXXwqjDFUmbP"
   },
   "outputs": [],
   "source": [
    "#Building an XGBRegressor model\n",
    "#from xgboost import XGBRegressor\n",
    "\n",
    "#XGBR = XGBRegressor(max_depth=6, n_estimators=200, learning_rate=0.05, n_jobs=4)\n",
    "#XGBR.fit(X_train, y_train)\n",
    "#xgbr_pred = XGBR.predict(X_test)\n",
    "\n",
    "#Log loss\n",
    "#print('Log loss')\n",
    "#log_loss(y_test, xgb_pred)"
   ]
  },
  {
   "cell_type": "code",
   "execution_count": null,
   "metadata": {
    "colab": {},
    "colab_type": "code",
    "id": "oJ8W7kUaasVC"
   },
   "outputs": [],
   "source": [
    "#xgbr = XGBR.predict(test)"
   ]
  },
  {
   "cell_type": "markdown",
   "metadata": {
    "colab_type": "text",
    "id": "XYeNC4v3XmIu"
   },
   "source": [
    "### Plotting an ROC curve to determine how good the XGBClassifier model is."
   ]
  },
  {
   "cell_type": "code",
   "execution_count": 67,
   "metadata": {
    "colab": {},
    "colab_type": "code",
    "id": "mdiHu5dETl9A"
   },
   "outputs": [
    {
     "ename": "NameError",
     "evalue": "name 'GBC_pred' is not defined",
     "output_type": "error",
     "traceback": [
      "\u001b[1;31m---------------------------------------------------------------------------\u001b[0m",
      "\u001b[1;31mNameError\u001b[0m                                 Traceback (most recent call last)",
      "\u001b[1;32m<ipython-input-67-7d8422638803>\u001b[0m in \u001b[0;36m<module>\u001b[1;34m\u001b[0m\n\u001b[0;32m      3\u001b[0m \u001b[1;33m\u001b[0m\u001b[0m\n\u001b[0;32m      4\u001b[0m \u001b[1;31m# Calculate the roc metrics\u001b[0m\u001b[1;33m\u001b[0m\u001b[1;33m\u001b[0m\u001b[1;33m\u001b[0m\u001b[0m\n\u001b[1;32m----> 5\u001b[1;33m \u001b[0mfpr\u001b[0m\u001b[1;33m,\u001b[0m \u001b[0mtpr\u001b[0m\u001b[1;33m,\u001b[0m \u001b[0mthresholds\u001b[0m \u001b[1;33m=\u001b[0m \u001b[0mroc_curve\u001b[0m\u001b[1;33m(\u001b[0m\u001b[0my_test\u001b[0m\u001b[1;33m,\u001b[0m \u001b[0mGBC_pred\u001b[0m\u001b[1;33m[\u001b[0m\u001b[1;33m:\u001b[0m\u001b[1;33m,\u001b[0m\u001b[1;36m1\u001b[0m\u001b[1;33m]\u001b[0m\u001b[1;33m)\u001b[0m\u001b[1;33m\u001b[0m\u001b[1;33m\u001b[0m\u001b[0m\n\u001b[0m\u001b[0;32m      6\u001b[0m \u001b[1;33m\u001b[0m\u001b[0m\n\u001b[0;32m      7\u001b[0m \u001b[1;31m# Plot the ROC curve\u001b[0m\u001b[1;33m\u001b[0m\u001b[1;33m\u001b[0m\u001b[1;33m\u001b[0m\u001b[0m\n",
      "\u001b[1;31mNameError\u001b[0m: name 'GBC_pred' is not defined"
     ]
    }
   ],
   "source": [
    "# Import roc_curve\n",
    "from sklearn.metrics import roc_curve\n",
    "\n",
    "# Calculate the roc metrics\n",
    "fpr, tpr, thresholds = roc_curve(y_test, GBC_pred[:,1])\n",
    "\n",
    "# Plot the ROC curve\n",
    "plt.plot(fpr,tpr)\n",
    "\n",
    "# Add labels and diagonal line\n",
    "plt.xlabel(\"False Positive Rate\")\n",
    "plt.ylabel(\"True Positive Rate\")\n",
    "plt.plot([0, 1], [0, 1], \"k--\")\n",
    "plt.show()"
   ]
  },
  {
   "cell_type": "markdown",
   "metadata": {
    "colab_type": "text",
    "id": "mL783jj9YDa0"
   },
   "source": [
    "### MAKING A SUBMISSION\n",
    "From the models above, the XGBClassifier yielded the lowest log_loss, making it the most efficient. Hence the final submission file comprised of the predictions from this model."
   ]
  },
  {
   "cell_type": "code",
   "execution_count": null,
   "metadata": {
    "colab": {},
    "colab_type": "code",
    "id": "kbB6jb1XEHv4"
   },
   "outputs": [],
   "source": [
    "#Viewing the head of the submission file\n",
    "submission.head()"
   ]
  },
  {
   "cell_type": "code",
   "execution_count": null,
   "metadata": {
    "colab": {},
    "colab_type": "code",
    "id": "VVjVzj4FEHww"
   },
   "outputs": [],
   "source": [
    "#Making final submission with the best model prediction(XGBClassifier model). We take the probability of customers churning \n",
    "#(index 1 of the predict_proba matrix on the test dataset)\n",
    "submission[\"CHURN\"] = XB[:,1]"
   ]
  },
  {
   "cell_type": "code",
   "execution_count": null,
   "metadata": {
    "colab": {},
    "colab_type": "code",
    "id": "ZIcUKHE8bBg-"
   },
   "outputs": [],
   "source": [
    "#Submission for XGBRegressor\n",
    "#submission[\"CHURN\"] = XB"
   ]
  },
  {
   "cell_type": "code",
   "execution_count": null,
   "metadata": {
    "colab": {},
    "colab_type": "code",
    "id": "TW0HvLrgJdRd"
   },
   "outputs": [],
   "source": [
    "#Counting the number of levels in the CHURN column\n",
    "submission[\"CHURN\"].value_counts()"
   ]
  },
  {
   "cell_type": "code",
   "execution_count": null,
   "metadata": {
    "colab": {},
    "colab_type": "code",
    "id": "X7Gmf9aPEHw5"
   },
   "outputs": [],
   "source": [
    "#Viewing the head of the submission file\n",
    "submission.head()"
   ]
  },
  {
   "cell_type": "code",
   "execution_count": null,
   "metadata": {
    "colab": {},
    "colab_type": "code",
    "id": "4SzXXZIkgqLT"
   },
   "outputs": [],
   "source": [
    "#Viewing the shape of the submission file\n",
    "submission.shape"
   ]
  },
  {
   "cell_type": "code",
   "execution_count": null,
   "metadata": {
    "colab": {},
    "colab_type": "code",
    "id": "nQ0R-jTbEHxA"
   },
   "outputs": [],
   "source": [
    "#Creating a csv submission file\n",
    "#submission.to_csv('/content/drive/My Drive/EXPRESSO/sample_test11_submission.csv', index=False)\n"
   ]
  }
 ],
 "metadata": {
  "accelerator": "GPU",
  "colab": {
   "collapsed_sections": [],
   "name": "Copy of Expresso Customer Churn - NsrommaUoG Position 3 – Winning Code.ipynb",
   "provenance": [],
   "toc_visible": true
  },
  "kernelspec": {
   "display_name": "Python 3",
   "language": "python",
   "name": "python3"
  },
  "language_info": {
   "codemirror_mode": {
    "name": "ipython",
    "version": 3
   },
   "file_extension": ".py",
   "mimetype": "text/x-python",
   "name": "python",
   "nbconvert_exporter": "python",
   "pygments_lexer": "ipython3",
   "version": "3.8.3"
  }
 },
 "nbformat": 4,
 "nbformat_minor": 1
}
